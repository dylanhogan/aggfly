{
 "cells": [
  {
   "cell_type": "code",
   "execution_count": 29,
   "id": "eda49d8b-7b65-4176-9574-e1e6e5307586",
   "metadata": {},
   "outputs": [],
   "source": [
    "# import os\n",
    "import os.path\n",
    "os.environ['USE_PYGEOS'] = '0'\n",
    "import xarray as xr\n",
    "import numpy as np\n",
    "import pandas as pd\n",
    "import fiona\n",
    "import glob\n",
    "import dask_geopandas\n",
    "import geopandas as gpd\n",
    "import time\n",
    "from copy import deepcopy\n",
    "from functools import reduce\n",
    "\n",
    "import aggfly\n",
    "import netCDF4\n",
    "\n",
    "import dask\n",
    "from dask.distributed import Client\n",
    "from dask.diagnostics import ProgressBar\n",
    "\n",
    "from aggfly import regions\n",
    "from aggfly import dataset, regions, grid_weights\n",
    "from aggfly.aggregate import TemporalAggregator, SpatialAggregator\n",
    "# from aggfly.aggregate import TemporalAggregator, SpatialAggregator\n",
    "\n",
    "ProgressBar().register()\n",
    "# client = Client(n_workers=2)\n",
    "\n",
    "project_dir = '/user/gb2884/aggfly/notebooks/giovanni_example'"
   ]
  },
  {
   "cell_type": "code",
   "execution_count": 30,
   "id": "ab98cb88-8c68-4622-8b46-1b9c10b99165",
   "metadata": {},
   "outputs": [
    {
     "ename": "DriverError",
     "evalue": "/Users/gb2884/Desktop/aggfly_loc/giovanni/aggfly/notebooks/giovanni_example/usa_simple_noHI.shp: No such file or directory",
     "output_type": "error",
     "traceback": [
      "\u001b[0;31m---------------------------------------------------------------------------\u001b[0m",
      "\u001b[0;31mCPLE_OpenFailedError\u001b[0m                      Traceback (most recent call last)",
      "File \u001b[0;32mfiona/ogrext.pyx:136\u001b[0m, in \u001b[0;36mfiona.ogrext.gdal_open_vector\u001b[0;34m()\u001b[0m\n",
      "File \u001b[0;32mfiona/_err.pyx:291\u001b[0m, in \u001b[0;36mfiona._err.exc_wrap_pointer\u001b[0;34m()\u001b[0m\n",
      "\u001b[0;31mCPLE_OpenFailedError\u001b[0m: /Users/gb2884/Desktop/aggfly_loc/giovanni/aggfly/notebooks/giovanni_example/usa_simple_noHI.shp: No such file or directory",
      "\nDuring handling of the above exception, another exception occurred:\n",
      "\u001b[0;31mDriverError\u001b[0m                               Traceback (most recent call last)",
      "Cell \u001b[0;32mIn[30], line 1\u001b[0m\n\u001b[0;32m----> 1\u001b[0m gdf \u001b[38;5;241m=\u001b[39m \u001b[43mgpd\u001b[49m\u001b[38;5;241;43m.\u001b[39;49m\u001b[43mread_file\u001b[49m\u001b[43m(\u001b[49m\u001b[38;5;124;43m\"\u001b[39;49m\u001b[38;5;124;43m/Users/gb2884/Desktop/aggfly_loc/giovanni/aggfly/notebooks/giovanni_example/usa_simple_noHI.shp\u001b[39;49m\u001b[38;5;124;43m\"\u001b[39;49m\u001b[43m)\u001b[49m\n\u001b[1;32m      2\u001b[0m \u001b[38;5;28mprint\u001b[39m(gdf\u001b[38;5;241m.\u001b[39mhead())\n\u001b[1;32m      3\u001b[0m gdf\u001b[38;5;241m.\u001b[39mplot(color\u001b[38;5;241m=\u001b[39m\u001b[38;5;124m'\u001b[39m\u001b[38;5;124mblue\u001b[39m\u001b[38;5;124m'\u001b[39m, legend\u001b[38;5;241m=\u001b[39m\u001b[38;5;28;01mTrue\u001b[39;00m)\n",
      "File \u001b[0;32m~/.conda/envs/aggfly-dev/lib/python3.9/site-packages/geopandas/io/file.py:297\u001b[0m, in \u001b[0;36m_read_file\u001b[0;34m(filename, bbox, mask, rows, engine, **kwargs)\u001b[0m\n\u001b[1;32m    294\u001b[0m     \u001b[38;5;28;01melse\u001b[39;00m:\n\u001b[1;32m    295\u001b[0m         path_or_bytes \u001b[38;5;241m=\u001b[39m filename\n\u001b[0;32m--> 297\u001b[0m     \u001b[38;5;28;01mreturn\u001b[39;00m \u001b[43m_read_file_fiona\u001b[49m\u001b[43m(\u001b[49m\n\u001b[1;32m    298\u001b[0m \u001b[43m        \u001b[49m\u001b[43mpath_or_bytes\u001b[49m\u001b[43m,\u001b[49m\u001b[43m \u001b[49m\u001b[43mfrom_bytes\u001b[49m\u001b[43m,\u001b[49m\u001b[43m \u001b[49m\u001b[43mbbox\u001b[49m\u001b[38;5;241;43m=\u001b[39;49m\u001b[43mbbox\u001b[49m\u001b[43m,\u001b[49m\u001b[43m \u001b[49m\u001b[43mmask\u001b[49m\u001b[38;5;241;43m=\u001b[39;49m\u001b[43mmask\u001b[49m\u001b[43m,\u001b[49m\u001b[43m \u001b[49m\u001b[43mrows\u001b[49m\u001b[38;5;241;43m=\u001b[39;49m\u001b[43mrows\u001b[49m\u001b[43m,\u001b[49m\u001b[43m \u001b[49m\u001b[38;5;241;43m*\u001b[39;49m\u001b[38;5;241;43m*\u001b[39;49m\u001b[43mkwargs\u001b[49m\n\u001b[1;32m    299\u001b[0m \u001b[43m    \u001b[49m\u001b[43m)\u001b[49m\n\u001b[1;32m    301\u001b[0m \u001b[38;5;28;01melse\u001b[39;00m:\n\u001b[1;32m    302\u001b[0m     \u001b[38;5;28;01mraise\u001b[39;00m \u001b[38;5;167;01mValueError\u001b[39;00m(\u001b[38;5;124mf\u001b[39m\u001b[38;5;124m\"\u001b[39m\u001b[38;5;124munknown engine \u001b[39m\u001b[38;5;124m'\u001b[39m\u001b[38;5;132;01m{\u001b[39;00mengine\u001b[38;5;132;01m}\u001b[39;00m\u001b[38;5;124m'\u001b[39m\u001b[38;5;124m\"\u001b[39m)\n",
      "File \u001b[0;32m~/.conda/envs/aggfly-dev/lib/python3.9/site-packages/geopandas/io/file.py:338\u001b[0m, in \u001b[0;36m_read_file_fiona\u001b[0;34m(path_or_bytes, from_bytes, bbox, mask, rows, where, **kwargs)\u001b[0m\n\u001b[1;32m    335\u001b[0m     reader \u001b[38;5;241m=\u001b[39m fiona\u001b[38;5;241m.\u001b[39mopen\n\u001b[1;32m    337\u001b[0m \u001b[38;5;28;01mwith\u001b[39;00m fiona_env():\n\u001b[0;32m--> 338\u001b[0m     \u001b[38;5;28;01mwith\u001b[39;00m \u001b[43mreader\u001b[49m\u001b[43m(\u001b[49m\u001b[43mpath_or_bytes\u001b[49m\u001b[43m,\u001b[49m\u001b[43m \u001b[49m\u001b[38;5;241;43m*\u001b[39;49m\u001b[38;5;241;43m*\u001b[39;49m\u001b[43mkwargs\u001b[49m\u001b[43m)\u001b[49m \u001b[38;5;28;01mas\u001b[39;00m features:\n\u001b[1;32m    339\u001b[0m         crs \u001b[38;5;241m=\u001b[39m features\u001b[38;5;241m.\u001b[39mcrs_wkt\n\u001b[1;32m    340\u001b[0m         \u001b[38;5;66;03m# attempt to get EPSG code\u001b[39;00m\n",
      "File \u001b[0;32m~/.conda/envs/aggfly-dev/lib/python3.9/site-packages/fiona/env.py:457\u001b[0m, in \u001b[0;36mensure_env_with_credentials.<locals>.wrapper\u001b[0;34m(*args, **kwds)\u001b[0m\n\u001b[1;32m    454\u001b[0m     session \u001b[38;5;241m=\u001b[39m DummySession()\n\u001b[1;32m    456\u001b[0m \u001b[38;5;28;01mwith\u001b[39;00m env_ctor(session\u001b[38;5;241m=\u001b[39msession):\n\u001b[0;32m--> 457\u001b[0m     \u001b[38;5;28;01mreturn\u001b[39;00m \u001b[43mf\u001b[49m\u001b[43m(\u001b[49m\u001b[38;5;241;43m*\u001b[39;49m\u001b[43margs\u001b[49m\u001b[43m,\u001b[49m\u001b[43m \u001b[49m\u001b[38;5;241;43m*\u001b[39;49m\u001b[38;5;241;43m*\u001b[39;49m\u001b[43mkwds\u001b[49m\u001b[43m)\u001b[49m\n",
      "File \u001b[0;32m~/.conda/envs/aggfly-dev/lib/python3.9/site-packages/fiona/__init__.py:292\u001b[0m, in \u001b[0;36mopen\u001b[0;34m(fp, mode, driver, schema, crs, encoding, layer, vfs, enabled_drivers, crs_wkt, allow_unsupported_drivers, **kwargs)\u001b[0m\n\u001b[1;32m    289\u001b[0m     path \u001b[38;5;241m=\u001b[39m parse_path(fp)\n\u001b[1;32m    291\u001b[0m \u001b[38;5;28;01mif\u001b[39;00m mode \u001b[38;5;129;01min\u001b[39;00m (\u001b[38;5;124m\"\u001b[39m\u001b[38;5;124ma\u001b[39m\u001b[38;5;124m\"\u001b[39m, \u001b[38;5;124m\"\u001b[39m\u001b[38;5;124mr\u001b[39m\u001b[38;5;124m\"\u001b[39m):\n\u001b[0;32m--> 292\u001b[0m     colxn \u001b[38;5;241m=\u001b[39m \u001b[43mCollection\u001b[49m\u001b[43m(\u001b[49m\n\u001b[1;32m    293\u001b[0m \u001b[43m        \u001b[49m\u001b[43mpath\u001b[49m\u001b[43m,\u001b[49m\n\u001b[1;32m    294\u001b[0m \u001b[43m        \u001b[49m\u001b[43mmode\u001b[49m\u001b[43m,\u001b[49m\n\u001b[1;32m    295\u001b[0m \u001b[43m        \u001b[49m\u001b[43mdriver\u001b[49m\u001b[38;5;241;43m=\u001b[39;49m\u001b[43mdriver\u001b[49m\u001b[43m,\u001b[49m\n\u001b[1;32m    296\u001b[0m \u001b[43m        \u001b[49m\u001b[43mencoding\u001b[49m\u001b[38;5;241;43m=\u001b[39;49m\u001b[43mencoding\u001b[49m\u001b[43m,\u001b[49m\n\u001b[1;32m    297\u001b[0m \u001b[43m        \u001b[49m\u001b[43mlayer\u001b[49m\u001b[38;5;241;43m=\u001b[39;49m\u001b[43mlayer\u001b[49m\u001b[43m,\u001b[49m\n\u001b[1;32m    298\u001b[0m \u001b[43m        \u001b[49m\u001b[43menabled_drivers\u001b[49m\u001b[38;5;241;43m=\u001b[39;49m\u001b[43menabled_drivers\u001b[49m\u001b[43m,\u001b[49m\n\u001b[1;32m    299\u001b[0m \u001b[43m        \u001b[49m\u001b[43mallow_unsupported_drivers\u001b[49m\u001b[38;5;241;43m=\u001b[39;49m\u001b[43mallow_unsupported_drivers\u001b[49m\u001b[43m,\u001b[49m\n\u001b[1;32m    300\u001b[0m \u001b[43m        \u001b[49m\u001b[38;5;241;43m*\u001b[39;49m\u001b[38;5;241;43m*\u001b[39;49m\u001b[43mkwargs\u001b[49m\n\u001b[1;32m    301\u001b[0m \u001b[43m    \u001b[49m\u001b[43m)\u001b[49m\n\u001b[1;32m    302\u001b[0m \u001b[38;5;28;01melif\u001b[39;00m mode \u001b[38;5;241m==\u001b[39m \u001b[38;5;124m\"\u001b[39m\u001b[38;5;124mw\u001b[39m\u001b[38;5;124m\"\u001b[39m:\n\u001b[1;32m    303\u001b[0m     colxn \u001b[38;5;241m=\u001b[39m Collection(\n\u001b[1;32m    304\u001b[0m         path,\n\u001b[1;32m    305\u001b[0m         mode,\n\u001b[0;32m   (...)\u001b[0m\n\u001b[1;32m    314\u001b[0m         \u001b[38;5;241m*\u001b[39m\u001b[38;5;241m*\u001b[39mkwargs\n\u001b[1;32m    315\u001b[0m     )\n",
      "File \u001b[0;32m~/.conda/envs/aggfly-dev/lib/python3.9/site-packages/fiona/collection.py:243\u001b[0m, in \u001b[0;36mCollection.__init__\u001b[0;34m(self, path, mode, driver, schema, crs, encoding, layer, vsi, archive, enabled_drivers, crs_wkt, ignore_fields, ignore_geometry, include_fields, wkt_version, allow_unsupported_drivers, **kwargs)\u001b[0m\n\u001b[1;32m    241\u001b[0m \u001b[38;5;28;01mif\u001b[39;00m \u001b[38;5;28mself\u001b[39m\u001b[38;5;241m.\u001b[39mmode \u001b[38;5;241m==\u001b[39m \u001b[38;5;124m\"\u001b[39m\u001b[38;5;124mr\u001b[39m\u001b[38;5;124m\"\u001b[39m:\n\u001b[1;32m    242\u001b[0m     \u001b[38;5;28mself\u001b[39m\u001b[38;5;241m.\u001b[39msession \u001b[38;5;241m=\u001b[39m Session()\n\u001b[0;32m--> 243\u001b[0m     \u001b[38;5;28;43mself\u001b[39;49m\u001b[38;5;241;43m.\u001b[39;49m\u001b[43msession\u001b[49m\u001b[38;5;241;43m.\u001b[39;49m\u001b[43mstart\u001b[49m\u001b[43m(\u001b[49m\u001b[38;5;28;43mself\u001b[39;49m\u001b[43m,\u001b[49m\u001b[43m \u001b[49m\u001b[38;5;241;43m*\u001b[39;49m\u001b[38;5;241;43m*\u001b[39;49m\u001b[43mkwargs\u001b[49m\u001b[43m)\u001b[49m\n\u001b[1;32m    244\u001b[0m \u001b[38;5;28;01melif\u001b[39;00m \u001b[38;5;28mself\u001b[39m\u001b[38;5;241m.\u001b[39mmode \u001b[38;5;129;01min\u001b[39;00m (\u001b[38;5;124m\"\u001b[39m\u001b[38;5;124ma\u001b[39m\u001b[38;5;124m\"\u001b[39m, \u001b[38;5;124m\"\u001b[39m\u001b[38;5;124mw\u001b[39m\u001b[38;5;124m\"\u001b[39m):\n\u001b[1;32m    245\u001b[0m     \u001b[38;5;28mself\u001b[39m\u001b[38;5;241m.\u001b[39msession \u001b[38;5;241m=\u001b[39m WritingSession()\n",
      "File \u001b[0;32mfiona/ogrext.pyx:588\u001b[0m, in \u001b[0;36mfiona.ogrext.Session.start\u001b[0;34m()\u001b[0m\n",
      "File \u001b[0;32mfiona/ogrext.pyx:143\u001b[0m, in \u001b[0;36mfiona.ogrext.gdal_open_vector\u001b[0;34m()\u001b[0m\n",
      "\u001b[0;31mDriverError\u001b[0m: /Users/gb2884/Desktop/aggfly_loc/giovanni/aggfly/notebooks/giovanni_example/usa_simple_noHI.shp: No such file or directory"
     ]
    }
   ],
   "source": [
    "gdf = gpd.read_file(\"/Users/gb2884/Desktop/aggfly_loc/giovanni/aggfly/notebooks/giovanni_example/usa_simple_noHI.shp\")\n",
    "print(gdf.head())\n",
    "gdf.plot(color='blue', legend=True)\n",
    "\n"
   ]
  },
  {
   "cell_type": "code",
   "execution_count": 38,
   "id": "2b83fe9e-6322-4477-abf6-413837987d9e",
   "metadata": {},
   "outputs": [
    {
     "name": "stdout",
     "output_type": "stream",
     "text": [
      "Index(['geometry', 'GEOID'], dtype='object')\n"
     ]
    }
   ],
   "source": [
    "import os\n",
    "import os.path\n",
    "\n",
    "# Years to aggregate\n",
    "years = np.arange(1951,2020)\n",
    "years = years[years != 1959]\n",
    "\n",
    "#georegions = regions.from_path(\"/Users/gb2884/The Lab Dropbox/Giovanni Brocca/Macro_Enviro_Dev/1_Data/world_example/IPUMSI_world_release2020/world_countries_2020.shp\",regionid='CNTRY_CODE')\n",
    "georegions = regions.from_path('/user/gb2884/aggfly/notebooks/giovanni_example/usa_simple_noHI.shp',regionid='geometry')\n",
    "\n",
    "georegions.shp[\"GEOID\"]=range(50)\n",
    "\n",
    "print(georegions.shp.columns)"
   ]
  },
  {
   "cell_type": "code",
   "execution_count": 39,
   "id": "0e7d7787-8a55-4a9e-8bf3-6e44036df7bb",
   "metadata": {},
   "outputs": [
    {
     "name": "stdout",
     "output_type": "stream",
     "text": [
      "(50, 2)\n"
     ]
    },
    {
     "data": {
      "text/plain": [
       "<aggfly.regions.georegions.GeoRegions at 0x7f2e5e721670>"
      ]
     },
     "execution_count": 39,
     "metadata": {},
     "output_type": "execute_result"
    }
   ],
   "source": [
    "print(georegions.shp.shape)\n",
    "georegions"
   ]
  },
  {
   "cell_type": "code",
   "execution_count": 40,
   "id": "7db0583e-fa2d-4bcc-9942-2a9d87ef9d7d",
   "metadata": {},
   "outputs": [
    {
     "name": "stdout",
     "output_type": "stream",
     "text": [
      "/user/gb2884/aggfly/notebooks/giovanni_example/tmp/GridWeights/mod-9c23708f3e79a8e\n",
      "Loading weights\n",
      "Loading rescaled weights from cache\n",
      "Cache dictionary:\n",
      "{'func': 'weights', 'raster_weights': None}\n",
      "       cell_id  index_right  area_weight  longitude  latitude    weight\n",
      "0         2962            1     1.000000    -157.25     70.75  1.000000\n",
      "1         2963            1     1.000000    -157.00     70.75  1.000000\n",
      "2         2964            1     1.000000    -156.75     70.75  1.000000\n",
      "3         4392            1     1.000000    -159.00     70.50  1.000000\n",
      "4         4393            1     1.000000    -158.75     70.50  1.000000\n",
      "...        ...          ...          ...        ...       ...       ...\n",
      "20855   267676            9     0.003363     -80.75     24.75  0.003363\n",
      "20856   269107            9     0.000017     -82.25     24.50  0.000017\n",
      "20857   269108            9     0.006008     -82.00     24.50  0.006008\n",
      "20858   269109            9     0.060197     -81.75     24.50  0.060197\n",
      "20859   269110            9     0.022116     -81.50     24.50  0.022116\n",
      "\n",
      "[20860 rows x 6 columns]\n"
     ]
    }
   ],
   "source": [
    "def preprocess_era5l(array):\n",
    "    # Function for cleaning the era5l data.\n",
    "    with dask.config.set(**{'array.slicing.split_large_chunks': False}):   \n",
    "        # Reformat longitude\n",
    "        array.coords['longitude'] = (array.coords['longitude'] + 180) % 360 - 180\n",
    "        array = array.sortby(array.longitude)\n",
    "        # Kelvin -> Celsius\n",
    "        array = array - 273.15\n",
    "    return array\n",
    "\n",
    "# Open example dataset to construct weights.\n",
    "clim = dataset.from_path(\n",
    "    #f\"/Users\\gb2884/The Lab Dropbox/Giovanni Brocca/Macro_Enviro_Dev/1_Data/world_example/era_june_2000_2tm.nc\", \n",
    "    #f\"/Users/gb2884/The Lab Dropbox/Giovanni Brocca/Macro_Enviro_Dev/1_Data/IPUMS_1level_example/era_1st_June_2000_tm.nc\",\n",
    "    f\"/user/gb2884/aggfly/notebooks/giovanni_example/era_1st_June_2000_tm.nc\",\n",
    "    var = 't2m',\n",
    "    engine = 'netcdf4',\n",
    "    name='era5',\n",
    "    clip_geom=georegions,\n",
    "    preprocess = preprocess_era5l)\n",
    "\n",
    "# Calculate area and pop layer weights.\n",
    "weights = grid_weights.from_objects(\n",
    "    clim,\n",
    "    georegions,\n",
    "    wtype=None,\n",
    "    simplify=0.001,\n",
    "    project_dir=project_dir)\n",
    "\n",
    "\n",
    "#clim.clip_data_to_georegions_extent(georegions)\n",
    "\n",
    "print(\"Loading weights\")\n",
    "w = weights.weights()\n",
    "nzw_ind = np.isin(clim.grid.index, w.cell_id).nonzero()\n",
    "print(w) \n",
    "#print(nzw_ind)\n",
    "#print(clim.grid.index)\n",
    "#print(w.cell_id)"
   ]
  },
  {
   "cell_type": "code",
   "execution_count": 41,
   "id": "43531a26-5dba-4ba8-b4a7-ea4cf1252ff9",
   "metadata": {},
   "outputs": [
    {
     "name": "stdout",
     "output_type": "stream",
     "text": [
      "Scheduling aggregation\n"
     ]
    }
   ],
   "source": [
    "print(\"Scheduling aggregation\")\n",
    "dailies = [\n",
    "    TemporalAggregator('avg', 'time.date')\n",
    "]\n",
    "monthly = TemporalAggregator('sum', 'time.month')"
   ]
  },
  {
   "cell_type": "code",
   "execution_count": 42,
   "id": "43fc5019-20e0-49a3-8b6a-5ef71dd43459",
   "metadata": {},
   "outputs": [
    {
     "name": "stdout",
     "output_type": "stream",
     "text": [
      "Loading climate data\n",
      "[########################################] | 100% Completed | 104.34 ms\n",
      "[########################################] | 100% Completed | 207.17 ms\n",
      "[########################################] | 100% Completed | 303.50 ms\n",
      "[########################################] | 100% Completed | 402.11 ms\n",
      "[########################################] | 100% Completed | 404.34 ms\n",
      "[########################################] | 100% Completed | 503.42 ms\n",
      "[########################################] | 100% Completed | 604.64 ms\n",
      "Aggregating\n"
     ]
    }
   ],
   "source": [
    "out = pd.DataFrame()\n",
    "#for year in years:\n",
    "#    print(year)\n",
    "#    start = time.time()\n",
    "year = 2000\n",
    "\n",
    "print('Loading climate data')\n",
    "clim = dataset.from_path(\n",
    "    #f\"/Users\\gb2884/The Lab Dropbox/Giovanni Brocca/Macro_Enviro_Dev/1_Data/world_example/era_june_2000_2tm.nc\", \n",
    "    #f\"/Users/gb2884/The Lab Dropbox/Giovanni Brocca/Macro_Enviro_Dev/1_Data/IPUMS_1level_example/era_1st_June_2000_tm.nc\",\n",
    "    f\"/user/gb2884/aggfly/notebooks/giovanni_example/era_1st_June_2000_tm.nc\",\n",
    "    var = 't2m',\n",
    "    engine = 'netcdf4',\n",
    "    name='era5',\n",
    "    clip_geom=georegions,\n",
    "    preprocess = preprocess_era5l)\n",
    "clim.update(clim.da.persist())\n",
    "\n",
    "print('Aggregating')\n",
    "day_ds = [x.map_execute(clim, nzw_ind) for x in dailies]\n",
    "month_ds = [monthly.map_execute(x, nzw_ind) for x in day_ds]"
   ]
  },
  {
   "cell_type": "code",
   "execution_count": 43,
   "id": "6a339e1f-bbcf-4da4-a845-abfb1e9f9f4d",
   "metadata": {},
   "outputs": [
    {
     "name": "stdout",
     "output_type": "stream",
     "text": [
      "[########################################] | 100% Completed | 105.00 ms\n",
      "[########################################] | 100% Completed | 202.36 ms\n",
      "[########################################] | 100% Completed | 301.87 ms\n",
      "[########################################] | 100% Completed | 304.57 ms\n",
      "[########################################] | 100% Completed | 404.24 ms\n",
      "[########################################] | 100% Completed | 505.24 ms\n",
      "[########################################] | 100% Completed | 604.69 ms\n",
      "[########################################] | 100% Completed | 1.16 sms\n",
      "[########################################] | 100% Completed | 1.19 s\n",
      "[########################################] | 100% Completed | 1.28 s\n",
      "[########################################] | 100% Completed | 1.29 s\n",
      "[########################################] | 100% Completed | 1.38 s\n",
      "[########################################] | 100% Completed | 1.47 s\n",
      "[########################################] | 100% Completed | 1.48 s\n"
     ]
    }
   ],
   "source": [
    "names = ['avg']\n",
    "df = SpatialAggregator(day_ds, w, weights.grid, names=names).compute()\n",
    "    \n",
    "# Clean output dataset and append\n",
    "df = df.reset_index().rename(columns={'time':'month'})\n",
    "df['year'] = year\n",
    "df = df[['region_id', 'year', 'month'] + names]\n",
    "df = georegions.shp[['GEOID']].merge(df, left_index=True, right_on='region_id')\n",
    "\n",
    "out = pd.concat([out, df])"
   ]
  },
  {
   "cell_type": "code",
   "execution_count": 44,
   "id": "551e7e1f-5d2f-4c57-8756-1babaf306239",
   "metadata": {},
   "outputs": [
    {
     "ename": "OSError",
     "evalue": "Cannot save file into a non-existent directory: '/home3/dth2133/data/clim_data_requests/maya'",
     "output_type": "error",
     "traceback": [
      "\u001b[0;31m---------------------------------------------------------------------------\u001b[0m",
      "\u001b[0;31mOSError\u001b[0m                                   Traceback (most recent call last)",
      "Cell \u001b[0;32mIn[44], line 1\u001b[0m\n\u001b[0;32m----> 1\u001b[0m \u001b[43mout\u001b[49m\u001b[38;5;241;43m.\u001b[39;49m\u001b[43mreset_index\u001b[49m\u001b[43m(\u001b[49m\u001b[43m)\u001b[49m\u001b[38;5;241;43m.\u001b[39;49m\u001b[43mto_feather\u001b[49m\u001b[43m(\u001b[49m\u001b[38;5;124;43m\"\u001b[39;49m\u001b[38;5;124;43m/home3/dth2133/data/clim_data_requests/maya/temp_data_maya.feather\u001b[39;49m\u001b[38;5;124;43m\"\u001b[39;49m\u001b[43m)\u001b[49m\n",
      "File \u001b[0;32m~/.conda/envs/aggfly-dev/lib/python3.9/site-packages/pandas/core/frame.py:2714\u001b[0m, in \u001b[0;36mDataFrame.to_feather\u001b[0;34m(self, path, **kwargs)\u001b[0m\n\u001b[1;32m   2689\u001b[0m \u001b[38;5;250m\u001b[39m\u001b[38;5;124;03m\"\"\"\u001b[39;00m\n\u001b[1;32m   2690\u001b[0m \u001b[38;5;124;03mWrite a DataFrame to the binary Feather format.\u001b[39;00m\n\u001b[1;32m   2691\u001b[0m \n\u001b[0;32m   (...)\u001b[0m\n\u001b[1;32m   2710\u001b[0m \u001b[38;5;124;03msupports custom indices e.g. `to_parquet`.\u001b[39;00m\n\u001b[1;32m   2711\u001b[0m \u001b[38;5;124;03m\"\"\"\u001b[39;00m\n\u001b[1;32m   2712\u001b[0m \u001b[38;5;28;01mfrom\u001b[39;00m \u001b[38;5;21;01mpandas\u001b[39;00m\u001b[38;5;21;01m.\u001b[39;00m\u001b[38;5;21;01mio\u001b[39;00m\u001b[38;5;21;01m.\u001b[39;00m\u001b[38;5;21;01mfeather_format\u001b[39;00m \u001b[38;5;28;01mimport\u001b[39;00m to_feather\n\u001b[0;32m-> 2714\u001b[0m \u001b[43mto_feather\u001b[49m\u001b[43m(\u001b[49m\u001b[38;5;28;43mself\u001b[39;49m\u001b[43m,\u001b[49m\u001b[43m \u001b[49m\u001b[43mpath\u001b[49m\u001b[43m,\u001b[49m\u001b[43m \u001b[49m\u001b[38;5;241;43m*\u001b[39;49m\u001b[38;5;241;43m*\u001b[39;49m\u001b[43mkwargs\u001b[49m\u001b[43m)\u001b[49m\n",
      "File \u001b[0;32m~/.conda/envs/aggfly-dev/lib/python3.9/site-packages/pandas/io/feather_format.py:93\u001b[0m, in \u001b[0;36mto_feather\u001b[0;34m(df, path, storage_options, **kwargs)\u001b[0m\n\u001b[1;32m     90\u001b[0m \u001b[38;5;28;01mif\u001b[39;00m df\u001b[38;5;241m.\u001b[39mcolumns\u001b[38;5;241m.\u001b[39minferred_type \u001b[38;5;129;01mnot\u001b[39;00m \u001b[38;5;129;01min\u001b[39;00m valid_types:\n\u001b[1;32m     91\u001b[0m     \u001b[38;5;28;01mraise\u001b[39;00m \u001b[38;5;167;01mValueError\u001b[39;00m(\u001b[38;5;124m\"\u001b[39m\u001b[38;5;124mfeather must have string column names\u001b[39m\u001b[38;5;124m\"\u001b[39m)\n\u001b[0;32m---> 93\u001b[0m \u001b[38;5;28;01mwith\u001b[39;00m \u001b[43mget_handle\u001b[49m\u001b[43m(\u001b[49m\n\u001b[1;32m     94\u001b[0m \u001b[43m    \u001b[49m\u001b[43mpath\u001b[49m\u001b[43m,\u001b[49m\u001b[43m \u001b[49m\u001b[38;5;124;43m\"\u001b[39;49m\u001b[38;5;124;43mwb\u001b[39;49m\u001b[38;5;124;43m\"\u001b[39;49m\u001b[43m,\u001b[49m\u001b[43m \u001b[49m\u001b[43mstorage_options\u001b[49m\u001b[38;5;241;43m=\u001b[39;49m\u001b[43mstorage_options\u001b[49m\u001b[43m,\u001b[49m\u001b[43m \u001b[49m\u001b[43mis_text\u001b[49m\u001b[38;5;241;43m=\u001b[39;49m\u001b[38;5;28;43;01mFalse\u001b[39;49;00m\n\u001b[1;32m     95\u001b[0m \u001b[43m\u001b[49m\u001b[43m)\u001b[49m \u001b[38;5;28;01mas\u001b[39;00m handles:\n\u001b[1;32m     96\u001b[0m     feather\u001b[38;5;241m.\u001b[39mwrite_feather(df, handles\u001b[38;5;241m.\u001b[39mhandle, \u001b[38;5;241m*\u001b[39m\u001b[38;5;241m*\u001b[39mkwargs)\n",
      "File \u001b[0;32m~/.conda/envs/aggfly-dev/lib/python3.9/site-packages/pandas/io/common.py:737\u001b[0m, in \u001b[0;36mget_handle\u001b[0;34m(path_or_buf, mode, encoding, compression, memory_map, is_text, errors, storage_options)\u001b[0m\n\u001b[1;32m    735\u001b[0m \u001b[38;5;66;03m# Only for write methods\u001b[39;00m\n\u001b[1;32m    736\u001b[0m \u001b[38;5;28;01mif\u001b[39;00m \u001b[38;5;124m\"\u001b[39m\u001b[38;5;124mr\u001b[39m\u001b[38;5;124m\"\u001b[39m \u001b[38;5;129;01mnot\u001b[39;00m \u001b[38;5;129;01min\u001b[39;00m mode \u001b[38;5;129;01mand\u001b[39;00m is_path:\n\u001b[0;32m--> 737\u001b[0m     \u001b[43mcheck_parent_directory\u001b[49m\u001b[43m(\u001b[49m\u001b[38;5;28;43mstr\u001b[39;49m\u001b[43m(\u001b[49m\u001b[43mhandle\u001b[49m\u001b[43m)\u001b[49m\u001b[43m)\u001b[49m\n\u001b[1;32m    739\u001b[0m \u001b[38;5;28;01mif\u001b[39;00m compression:\n\u001b[1;32m    740\u001b[0m     \u001b[38;5;28;01mif\u001b[39;00m compression \u001b[38;5;241m!=\u001b[39m \u001b[38;5;124m\"\u001b[39m\u001b[38;5;124mzstd\u001b[39m\u001b[38;5;124m\"\u001b[39m:\n\u001b[1;32m    741\u001b[0m         \u001b[38;5;66;03m# compression libraries do not like an explicit text-mode\u001b[39;00m\n",
      "File \u001b[0;32m~/.conda/envs/aggfly-dev/lib/python3.9/site-packages/pandas/io/common.py:600\u001b[0m, in \u001b[0;36mcheck_parent_directory\u001b[0;34m(path)\u001b[0m\n\u001b[1;32m    598\u001b[0m parent \u001b[38;5;241m=\u001b[39m Path(path)\u001b[38;5;241m.\u001b[39mparent\n\u001b[1;32m    599\u001b[0m \u001b[38;5;28;01mif\u001b[39;00m \u001b[38;5;129;01mnot\u001b[39;00m parent\u001b[38;5;241m.\u001b[39mis_dir():\n\u001b[0;32m--> 600\u001b[0m     \u001b[38;5;28;01mraise\u001b[39;00m \u001b[38;5;167;01mOSError\u001b[39;00m(\u001b[38;5;124mrf\u001b[39m\u001b[38;5;124m\"\u001b[39m\u001b[38;5;124mCannot save file into a non-existent directory: \u001b[39m\u001b[38;5;124m'\u001b[39m\u001b[38;5;132;01m{\u001b[39;00mparent\u001b[38;5;132;01m}\u001b[39;00m\u001b[38;5;124m'\u001b[39m\u001b[38;5;124m\"\u001b[39m)\n",
      "\u001b[0;31mOSError\u001b[0m: Cannot save file into a non-existent directory: '/home3/dth2133/data/clim_data_requests/maya'"
     ]
    }
   ],
   "source": [
    "out.reset_index().to_feather(\"/home3/dth2133/data/clim_data_requests/maya/temp_data_maya.feather\")"
   ]
  },
  {
   "cell_type": "code",
   "execution_count": 45,
   "id": "c17c707e-973f-4330-9a04-75e01958de88",
   "metadata": {},
   "outputs": [
    {
     "name": "stderr",
     "output_type": "stream",
     "text": [
      "Matplotlib is building the font cache; this may take a moment.\n"
     ]
    },
    {
     "data": {
      "text/plain": [
       "<Axes: >"
      ]
     },
     "execution_count": 45,
     "metadata": {},
     "output_type": "execute_result"
    },
    {
     "data": {
      "image/png": "[encoded data removed]",
      "text/plain": [
       "<Figure size 640x480 with 1 Axes>"
      ]
     },
     "metadata": {},
     "output_type": "display_data"
    }
   ],
   "source": [
    "slc = out.loc[out.year==2000].groupby('GEOID').mean()\n",
    "georegions.shp.merge(slc, right_index=True, left_on='GEOID').plot(column='avg')"
   ]
  },
  {
   "cell_type": "code",
   "execution_count": null,
   "id": "4fcbf3ab-d5ed-4bab-a3a7-e84e419878bf",
   "metadata": {},
   "outputs": [],
   "source": [
    "print(georegions.shp.columns)\n",
    "print(slc[\"avg\"])"
   ]
  },
  {
   "cell_type": "code",
   "execution_count": null,
   "id": "a738d9ce-1ea0-4592-84ef-c94b107e7b20",
   "metadata": {},
   "outputs": [],
   "source": []
  }
 ],
 "metadata": {
  "kernelspec": {
   "display_name": "Python 3 (ipykernel)",
   "language": "python",
   "name": "python3"
  },
  "language_info": {
   "codemirror_mode": {
    "name": "ipython",
    "version": 3
   },
   "file_extension": ".py",
   "mimetype": "text/x-python",
   "name": "python",
   "nbconvert_exporter": "python",
   "pygments_lexer": "ipython3",
   "version": "3.9.7"
  }
 },
 "nbformat": 4,
 "nbformat_minor": 5
}
