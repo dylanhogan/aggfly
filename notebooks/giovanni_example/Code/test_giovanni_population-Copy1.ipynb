{
 "cells": [
  {
   "cell_type": "code",
   "execution_count": 1,
   "id": "eda49d8b-7b65-4176-9574-e1e6e5307586",
   "metadata": {},
   "outputs": [],
   "source": [
    "# import os\n",
    "import os.path\n",
    "os.environ['USE_PYGEOS'] = '0'\n",
    "import xarray as xr\n",
    "import numpy as np\n",
    "import pandas as pd\n",
    "import fiona\n",
    "import glob\n",
    "import dask_geopandas\n",
    "import geopandas as gpd\n",
    "import time\n",
    "from copy import deepcopy\n",
    "from functools import reduce\n",
    "\n",
    "import aggfly\n",
    "import netCDF4\n",
    "\n",
    "import dask\n",
    "from dask.distributed import Client\n",
    "from dask.diagnostics import ProgressBar\n",
    "\n",
    "from aggfly import regions\n",
    "from aggfly import dataset, regions, grid_weights\n",
    "from aggfly.aggregate import TemporalAggregator, SpatialAggregator\n",
    "# from aggfly.aggregate import TemporalAggregator, SpatialAggregator\n",
    "\n",
    "ProgressBar().register()\n",
    "# client = Client(n_workers=2)\n",
    "\n",
    "project_dir = '/user/gb2884/aggfly/notebooks/giovanni_example'"
   ]
  },
  {
   "cell_type": "code",
   "execution_count": null,
   "id": "57e9b41a-2129-4454-b53a-c2b5f12b9bf4",
   "metadata": {},
   "outputs": [],
   "source": [
    "\n"
   ]
  },
  {
   "cell_type": "code",
   "execution_count": null,
   "id": "ab98cb88-8c68-4622-8b46-1b9c10b99165",
   "metadata": {},
   "outputs": [],
   "source": [
    "gdf = gpd.read_file(\"/Users/gb2884/Desktop/aggfly_loc/giovanni/aggfly/notebooks/giovanni_example/usa_simple_noHI.shp\")\n",
    "print(gdf.head())\n",
    "gdf.plot(color='blue', legend=True)\n",
    "\n"
   ]
  },
  {
   "cell_type": "code",
   "execution_count": null,
   "id": "2b83fe9e-6322-4477-abf6-413837987d9e",
   "metadata": {},
   "outputs": [
    {
     "name": "stdout",
     "output_type": "stream",
     "text": [
      "Index(['geometry', 'GEOID'], dtype='object')\n"
     ]
    }
   ],
   "source": [
    "import os\n",
    "import os.path\n",
    "\n",
    "# Years to aggregate\n",
    "years = np.arange(1951,2020)\n",
    "years = years[years != 1959]\n",
    "\n",
    "#georegions = regions.from_path(\"/Users/gb2884/The Lab Dropbox/Giovanni Brocca/Macro_Enviro_Dev/1_Data/world_example/IPUMSI_world_release2020/world_countries_2020.shp\",regionid='CNTRY_CODE')\n",
    "georegions = regions.from_path('/user/gb2884/aggfly/notebooks/giovanni_example/usa_simple_noHI.shp',regionid='geometry')\n",
    "\n",
    "georegions.shp[\"GEOID\"]=range(50)\n",
    "\n",
    "print(georegions.shp.columns)"
   ]
  },
  {
   "cell_type": "code",
   "execution_count": null,
   "id": "0e7d7787-8a55-4a9e-8bf3-6e44036df7bb",
   "metadata": {},
   "outputs": [],
   "source": [
    "print(georegions.shp.shape)\n",
    "georegions"
   ]
  },
  {
   "cell_type": "code",
   "execution_count": null,
   "id": "7db0583e-fa2d-4bcc-9942-2a9d87ef9d7d",
   "metadata": {},
   "outputs": [
    {
     "ename": "KeyError",
     "evalue": "'t2m'",
     "output_type": "error",
     "traceback": [
      "\u001b[0;31m---------------------------------------------------------------------------\u001b[0m",
      "\u001b[0;31mKeyError\u001b[0m                                  Traceback (most recent call last)",
      "File \u001b[0;32m~/.conda/envs/aggfly-dev/lib/python3.9/site-packages/xarray/core/dataset.py:1393\u001b[0m, in \u001b[0;36mDataset._construct_dataarray\u001b[0;34m(self, name)\u001b[0m\n\u001b[1;32m   1392\u001b[0m \u001b[38;5;28;01mtry\u001b[39;00m:\n\u001b[0;32m-> 1393\u001b[0m     variable \u001b[38;5;241m=\u001b[39m \u001b[38;5;28;43mself\u001b[39;49m\u001b[38;5;241;43m.\u001b[39;49m\u001b[43m_variables\u001b[49m\u001b[43m[\u001b[49m\u001b[43mname\u001b[49m\u001b[43m]\u001b[49m\n\u001b[1;32m   1394\u001b[0m \u001b[38;5;28;01mexcept\u001b[39;00m \u001b[38;5;167;01mKeyError\u001b[39;00m:\n",
      "\u001b[0;31mKeyError\u001b[0m: 't2m'",
      "\nDuring handling of the above exception, another exception occurred:\n",
      "\u001b[0;31mKeyError\u001b[0m                                  Traceback (most recent call last)",
      "Cell \u001b[0;32mIn[3], line 12\u001b[0m\n\u001b[1;32m      9\u001b[0m     \u001b[38;5;28;01mreturn\u001b[39;00m array\n\u001b[1;32m     11\u001b[0m \u001b[38;5;66;03m# Open example dataset to construct weights.\u001b[39;00m\n\u001b[0;32m---> 12\u001b[0m clim \u001b[38;5;241m=\u001b[39m \u001b[43mdataset\u001b[49m\u001b[38;5;241;43m.\u001b[39;49m\u001b[43mfrom_path\u001b[49m\u001b[43m(\u001b[49m\n\u001b[1;32m     13\u001b[0m \u001b[43m    \u001b[49m\u001b[38;5;66;43;03m#f\"/Users\\gb2884/The Lab Dropbox/Giovanni Brocca/Macro_Enviro_Dev/1_Data/world_example/era_june_2000_2tm.nc\", \u001b[39;49;00m\n\u001b[1;32m     14\u001b[0m \u001b[43m    \u001b[49m\u001b[38;5;66;43;03m#f\"/Users/gb2884/The Lab Dropbox/Giovanni Brocca/Macro_Enviro_Dev/1_Data/IPUMS_1level_example/era_1st_June_2000_tm.nc\",\u001b[39;49;00m\n\u001b[1;32m     15\u001b[0m \u001b[43m    \u001b[49m\u001b[38;5;124;43mf\u001b[39;49m\u001b[38;5;124;43m\"\u001b[39;49m\u001b[38;5;124;43m/user/gb2884/Macro_Enviro_Dev/1_Data/world_example/2pt5_world_population_count/gpw_v4_population_count_rev11_2pt5_min.nc\u001b[39;49m\u001b[38;5;124;43m\"\u001b[39;49m\u001b[43m,\u001b[49m\n\u001b[1;32m     16\u001b[0m \u001b[43m    \u001b[49m\u001b[43mvar\u001b[49m\u001b[43m \u001b[49m\u001b[38;5;241;43m=\u001b[39;49m\u001b[43m \u001b[49m\u001b[38;5;124;43m'\u001b[39;49m\u001b[38;5;124;43mt2m\u001b[39;49m\u001b[38;5;124;43m'\u001b[39;49m\u001b[43m,\u001b[49m\n\u001b[1;32m     17\u001b[0m \u001b[43m    \u001b[49m\u001b[43mengine\u001b[49m\u001b[43m \u001b[49m\u001b[38;5;241;43m=\u001b[39;49m\u001b[43m \u001b[49m\u001b[38;5;124;43m'\u001b[39;49m\u001b[38;5;124;43mnetcdf4\u001b[39;49m\u001b[38;5;124;43m'\u001b[39;49m\u001b[43m,\u001b[49m\n\u001b[1;32m     18\u001b[0m \u001b[43m    \u001b[49m\u001b[43mname\u001b[49m\u001b[38;5;241;43m=\u001b[39;49m\u001b[38;5;124;43m'\u001b[39;49m\u001b[38;5;124;43mera5\u001b[39;49m\u001b[38;5;124;43m'\u001b[39;49m\u001b[43m,\u001b[49m\n\u001b[1;32m     19\u001b[0m \u001b[43m    \u001b[49m\u001b[43mclip_geom\u001b[49m\u001b[38;5;241;43m=\u001b[39;49m\u001b[43mgeoregions\u001b[49m\u001b[43m,\u001b[49m\n\u001b[1;32m     20\u001b[0m \u001b[43m    \u001b[49m\u001b[43mpreprocess\u001b[49m\u001b[43m \u001b[49m\u001b[38;5;241;43m=\u001b[39;49m\u001b[43m \u001b[49m\u001b[43mpreprocess_era5l\u001b[49m\u001b[43m)\u001b[49m\n\u001b[1;32m     22\u001b[0m \u001b[38;5;66;03m# Calculate area and pop layer weights.\u001b[39;00m\n\u001b[1;32m     23\u001b[0m weights \u001b[38;5;241m=\u001b[39m grid_weights\u001b[38;5;241m.\u001b[39mfrom_objects(\n\u001b[1;32m     24\u001b[0m     clim,\n\u001b[1;32m     25\u001b[0m     georegions,\n\u001b[1;32m     26\u001b[0m     wtype\u001b[38;5;241m=\u001b[39m\u001b[38;5;28;01mNone\u001b[39;00m,\n\u001b[1;32m     27\u001b[0m     simplify\u001b[38;5;241m=\u001b[39m\u001b[38;5;241m0.001\u001b[39m,\n\u001b[1;32m     28\u001b[0m     project_dir\u001b[38;5;241m=\u001b[39mproject_dir)\n",
      "File \u001b[0;32m~/aggfly/aggfly/dataset/dataset.py:262\u001b[0m, in \u001b[0;36mfrom_path\u001b[0;34m(path, var, engine, xycoords, time_sel, clip_geom, time_fix, preprocess, name, chunks, **kwargs)\u001b[0m\n\u001b[1;32m    260\u001b[0m         array \u001b[38;5;241m=\u001b[39m xr\u001b[38;5;241m.\u001b[39mopen_zarr(path, \u001b[38;5;241m*\u001b[39m\u001b[38;5;241m*\u001b[39mkwargs)[var]\n\u001b[1;32m    261\u001b[0m     \u001b[38;5;28;01melse\u001b[39;00m:\n\u001b[0;32m--> 262\u001b[0m         array \u001b[38;5;241m=\u001b[39m \u001b[43mxr\u001b[49m\u001b[38;5;241;43m.\u001b[39;49m\u001b[43mopen_dataset\u001b[49m\u001b[43m(\u001b[49m\u001b[43mpath\u001b[49m\u001b[43m,\u001b[49m\u001b[43m \u001b[49m\u001b[43mengine\u001b[49m\u001b[38;5;241;43m=\u001b[39;49m\u001b[43mengine\u001b[49m\u001b[43m,\u001b[49m\u001b[43m \u001b[49m\u001b[38;5;241;43m*\u001b[39;49m\u001b[38;5;241;43m*\u001b[39;49m\u001b[43mkwargs\u001b[49m\u001b[43m)\u001b[49m\u001b[43m[\u001b[49m\u001b[43mvar\u001b[49m\u001b[43m]\u001b[49m\u001b[38;5;241m.\u001b[39mload()\n\u001b[1;32m    264\u001b[0m     \u001b[38;5;66;03m# if time_sel is not None:\u001b[39;00m\n\u001b[1;32m    265\u001b[0m     \u001b[38;5;66;03m#     array = array.sortby('time').sel(time=time_sel)\u001b[39;00m\n\u001b[1;32m    266\u001b[0m     \u001b[38;5;66;03m# if preprocess is not None:\u001b[39;00m\n\u001b[1;32m    267\u001b[0m     \u001b[38;5;66;03m#     array = preprocess(array)\u001b[39;00m\n\u001b[1;32m    268\u001b[0m \u001b[38;5;28;01mreturn\u001b[39;00m Dataset(\n\u001b[1;32m    269\u001b[0m     array,\n\u001b[1;32m    270\u001b[0m     xycoords\u001b[38;5;241m=\u001b[39mxycoords,\n\u001b[0;32m   (...)\u001b[0m\n\u001b[1;32m    275\u001b[0m     name\u001b[38;5;241m=\u001b[39mname\n\u001b[1;32m    276\u001b[0m )\n",
      "File \u001b[0;32m~/.conda/envs/aggfly-dev/lib/python3.9/site-packages/xarray/core/dataset.py:1484\u001b[0m, in \u001b[0;36mDataset.__getitem__\u001b[0;34m(self, key)\u001b[0m\n\u001b[1;32m   1482\u001b[0m     \u001b[38;5;28;01mreturn\u001b[39;00m \u001b[38;5;28mself\u001b[39m\u001b[38;5;241m.\u001b[39misel(\u001b[38;5;241m*\u001b[39m\u001b[38;5;241m*\u001b[39mkey)\n\u001b[1;32m   1483\u001b[0m \u001b[38;5;28;01mif\u001b[39;00m utils\u001b[38;5;241m.\u001b[39mhashable(key):\n\u001b[0;32m-> 1484\u001b[0m     \u001b[38;5;28;01mreturn\u001b[39;00m \u001b[38;5;28;43mself\u001b[39;49m\u001b[38;5;241;43m.\u001b[39;49m\u001b[43m_construct_dataarray\u001b[49m\u001b[43m(\u001b[49m\u001b[43mkey\u001b[49m\u001b[43m)\u001b[49m\n\u001b[1;32m   1485\u001b[0m \u001b[38;5;28;01mif\u001b[39;00m utils\u001b[38;5;241m.\u001b[39miterable_of_hashable(key):\n\u001b[1;32m   1486\u001b[0m     \u001b[38;5;28;01mreturn\u001b[39;00m \u001b[38;5;28mself\u001b[39m\u001b[38;5;241m.\u001b[39m_copy_listed(key)\n",
      "File \u001b[0;32m~/.conda/envs/aggfly-dev/lib/python3.9/site-packages/xarray/core/dataset.py:1395\u001b[0m, in \u001b[0;36mDataset._construct_dataarray\u001b[0;34m(self, name)\u001b[0m\n\u001b[1;32m   1393\u001b[0m     variable \u001b[38;5;241m=\u001b[39m \u001b[38;5;28mself\u001b[39m\u001b[38;5;241m.\u001b[39m_variables[name]\n\u001b[1;32m   1394\u001b[0m \u001b[38;5;28;01mexcept\u001b[39;00m \u001b[38;5;167;01mKeyError\u001b[39;00m:\n\u001b[0;32m-> 1395\u001b[0m     _, name, variable \u001b[38;5;241m=\u001b[39m \u001b[43m_get_virtual_variable\u001b[49m\u001b[43m(\u001b[49m\u001b[38;5;28;43mself\u001b[39;49m\u001b[38;5;241;43m.\u001b[39;49m\u001b[43m_variables\u001b[49m\u001b[43m,\u001b[49m\u001b[43m \u001b[49m\u001b[43mname\u001b[49m\u001b[43m,\u001b[49m\u001b[43m \u001b[49m\u001b[38;5;28;43mself\u001b[39;49m\u001b[38;5;241;43m.\u001b[39;49m\u001b[43mdims\u001b[49m\u001b[43m)\u001b[49m\n\u001b[1;32m   1397\u001b[0m needed_dims \u001b[38;5;241m=\u001b[39m \u001b[38;5;28mset\u001b[39m(variable\u001b[38;5;241m.\u001b[39mdims)\n\u001b[1;32m   1399\u001b[0m coords: \u001b[38;5;28mdict\u001b[39m[Hashable, Variable] \u001b[38;5;241m=\u001b[39m {}\n",
      "File \u001b[0;32m~/.conda/envs/aggfly-dev/lib/python3.9/site-packages/xarray/core/dataset.py:196\u001b[0m, in \u001b[0;36m_get_virtual_variable\u001b[0;34m(variables, key, dim_sizes)\u001b[0m\n\u001b[1;32m    194\u001b[0m split_key \u001b[38;5;241m=\u001b[39m key\u001b[38;5;241m.\u001b[39msplit(\u001b[38;5;124m\"\u001b[39m\u001b[38;5;124m.\u001b[39m\u001b[38;5;124m\"\u001b[39m, \u001b[38;5;241m1\u001b[39m)\n\u001b[1;32m    195\u001b[0m \u001b[38;5;28;01mif\u001b[39;00m \u001b[38;5;28mlen\u001b[39m(split_key) \u001b[38;5;241m!=\u001b[39m \u001b[38;5;241m2\u001b[39m:\n\u001b[0;32m--> 196\u001b[0m     \u001b[38;5;28;01mraise\u001b[39;00m \u001b[38;5;167;01mKeyError\u001b[39;00m(key)\n\u001b[1;32m    198\u001b[0m ref_name, var_name \u001b[38;5;241m=\u001b[39m split_key\n\u001b[1;32m    199\u001b[0m ref_var \u001b[38;5;241m=\u001b[39m variables[ref_name]\n",
      "\u001b[0;31mKeyError\u001b[0m: 't2m'"
     ]
    }
   ],
   "source": [
    "def preprocess_era5l(array):\n",
    "    # Function for cleaning the era5l data.\n",
    "    with dask.config.set(**{'array.slicing.split_large_chunks': False}):   \n",
    "        # Reformat longitude\n",
    "        array.coords['longitude'] = (array.coords['longitude'] + 180) % 360 - 180\n",
    "        array = array.sortby(array.longitude)\n",
    "        # Kelvin -> Celsius\n",
    "        array = array - 273.15\n",
    "    return array\n",
    "\n",
    "# Open example dataset to construct weights.\n",
    "clim = dataset.from_path(\n",
    "    #f\"/Users\\gb2884/The Lab Dropbox/Giovanni Brocca/Macro_Enviro_Dev/1_Data/world_example/era_june_2000_2tm.nc\", \n",
    "    #f\"/Users/gb2884/The Lab Dropbox/Giovanni Brocca/Macro_Enviro_Dev/1_Data/IPUMS_1level_example/era_1st_June_2000_tm.nc\",\n",
    "    f\"/user/gb2884/Macro_Enviro_Dev/1_Data/world_example/2pt5_world_population_count/gpw_v4_population_count_rev11_2pt5_min.nc\",\n",
    "    var = 't2m',\n",
    "    engine = 'netcdf4',\n",
    "    name='era5',\n",
    "    clip_geom=georegions,\n",
    "    preprocess = preprocess_era5l)\n",
    "\n",
    "# Calculate area and pop layer weights.\n",
    "weights = grid_weights.from_objects(\n",
    "    clim,\n",
    "    georegions,\n",
    "    wtype=None,\n",
    "    simplify=0.001,\n",
    "    project_dir=project_dir)\n",
    "\n",
    "\n",
    "#clim.clip_data_to_georegions_extent(georegions)\n",
    "\n",
    "print(\"Loading weights\")\n",
    "w = weights.weights()\n",
    "nzw_ind = np.isin(clim.grid.index, w.cell_id).nonzero()\n",
    "print(w) \n",
    "#print(nzw_ind)\n",
    "#print(clim.grid.index)\n",
    "#print(w.cell_id)"
   ]
  },
  {
   "cell_type": "code",
   "execution_count": null,
   "id": "43531a26-5dba-4ba8-b4a7-ea4cf1252ff9",
   "metadata": {},
   "outputs": [],
   "source": [
    "print(\"Scheduling aggregation\")\n",
    "dailies = [\n",
    "    TemporalAggregator('avg', 'time.date')\n",
    "]\n",
    "monthly = TemporalAggregator('sum', 'time.month')"
   ]
  },
  {
   "cell_type": "code",
   "execution_count": null,
   "id": "43fc5019-20e0-49a3-8b6a-5ef71dd43459",
   "metadata": {},
   "outputs": [],
   "source": [
    "out = pd.DataFrame()\n",
    "#for year in years:\n",
    "#    print(year)\n",
    "#    start = time.time()\n",
    "year = 2000\n",
    "\n",
    "print('Loading climate data')\n",
    "clim = dataset.from_path(\n",
    "    #f\"/Users\\gb2884/The Lab Dropbox/Giovanni Brocca/Macro_Enviro_Dev/1_Data/world_example/era_june_2000_2tm.nc\", \n",
    "    #f\"/Users/gb2884/The Lab Dropbox/Giovanni Brocca/Macro_Enviro_Dev/1_Data/IPUMS_1level_example/era_1st_June_2000_tm.nc\",\n",
    "    f\"/user/gb2884/aggfly/notebooks/giovanni_example/era_1st_June_2000_tm.nc\",\n",
    "    var = 't2m',\n",
    "    engine = 'netcdf4',\n",
    "    name='era5',\n",
    "    clip_geom=georegions,\n",
    "    preprocess = preprocess_era5l)\n",
    "clim.update(clim.da.persist())\n",
    "\n",
    "print('Aggregating')\n",
    "day_ds = [x.map_execute(clim, nzw_ind) for x in dailies]\n",
    "month_ds = [monthly.map_execute(x, nzw_ind) for x in day_ds]"
   ]
  },
  {
   "cell_type": "code",
   "execution_count": null,
   "id": "6a339e1f-bbcf-4da4-a845-abfb1e9f9f4d",
   "metadata": {},
   "outputs": [],
   "source": [
    "names = ['avg']\n",
    "df = SpatialAggregator(day_ds, w, weights.grid, names=names).compute()\n",
    "    \n",
    "# Clean output dataset and append\n",
    "df = df.reset_index().rename(columns={'time':'month'})\n",
    "df['year'] = year\n",
    "df = df[['region_id', 'year', 'month'] + names]\n",
    "df = georegions.shp[['GEOID']].merge(df, left_index=True, right_on='region_id')\n",
    "\n",
    "out = pd.concat([out, df])"
   ]
  },
  {
   "cell_type": "code",
   "execution_count": null,
   "id": "551e7e1f-5d2f-4c57-8756-1babaf306239",
   "metadata": {},
   "outputs": [],
   "source": [
    "out.reset_index().to_feather(\"/home3/dth2133/data/clim_data_requests/maya/temp_data_maya.feather\")"
   ]
  },
  {
   "cell_type": "code",
   "execution_count": null,
   "id": "c17c707e-973f-4330-9a04-75e01958de88",
   "metadata": {},
   "outputs": [],
   "source": [
    "slc = out.loc[out.year==2000].groupby('GEOID').mean()\n",
    "georegions.shp.merge(slc, right_index=True, left_on='GEOID').plot(column='avg')"
   ]
  },
  {
   "cell_type": "code",
   "execution_count": null,
   "id": "4fcbf3ab-d5ed-4bab-a3a7-e84e419878bf",
   "metadata": {},
   "outputs": [],
   "source": [
    "print(georegions.shp.columns)\n",
    "print(slc[\"avg\"])"
   ]
  },
  {
   "cell_type": "code",
   "execution_count": null,
   "id": "a738d9ce-1ea0-4592-84ef-c94b107e7b20",
   "metadata": {},
   "outputs": [],
   "source": []
  }
 ],
 "metadata": {
  "kernelspec": {
   "display_name": "Python [conda env:.conda-aggfly-dev]",
   "language": "python",
   "name": "conda-env-.conda-aggfly-dev-py"
  },
  "language_info": {
   "codemirror_mode": {
    "name": "ipython",
    "version": 3
   },
   "file_extension": ".py",
   "mimetype": "text/x-python",
   "name": "python",
   "nbconvert_exporter": "python",
   "pygments_lexer": "ipython3",
   "version": "3.9.18"
  }
 },
 "nbformat": 4,
 "nbformat_minor": 5
}
