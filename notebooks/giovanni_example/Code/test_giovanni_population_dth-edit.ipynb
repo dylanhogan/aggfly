{
 "cells": [
  {
   "cell_type": "code",
   "execution_count": 1,
   "id": "c442f061-bc59-4c60-ae1c-1414e0bddc07",
   "metadata": {},
   "outputs": [],
   "source": [
    "%load_ext autoreload"
   ]
  },
  {
   "cell_type": "code",
   "execution_count": 2,
   "id": "ac2d023d-bf01-4637-90b2-320d9e63aa7e",
   "metadata": {},
   "outputs": [],
   "source": [
    "%autoreload 2"
   ]
  },
  {
   "cell_type": "code",
   "execution_count": 39,
   "id": "eda49d8b-7b65-4176-9574-e1e6e5307586",
   "metadata": {},
   "outputs": [],
   "source": [
    "# import os\n",
    "import os.path\n",
    "os.environ['USE_PYGEOS'] = '0'\n",
    "import xarray as xr\n",
    "import numpy as np\n",
    "import pandas as pd\n",
    "import fiona\n",
    "import glob\n",
    "import dask_geopandas\n",
    "import geopandas as gpd\n",
    "import time\n",
    "from copy import deepcopy\n",
    "from functools import reduce\n",
    "\n",
    "import aggfly\n",
    "import netCDF4\n",
    "\n",
    "import dask\n",
    "from dask.distributed import Client\n",
    "from dask.diagnostics import ProgressBar\n",
    "\n",
    "from aggfly import regions\n",
    "from aggfly import dataset, regions, grid_weights\n",
    "from aggfly.aggregate import TemporalAggregator, SpatialAggregator\n",
    "# from aggfly.aggregate import TemporalAggregator, SpatialAggregator\n",
    "\n",
    "ProgressBar().register()\n",
    "# client = Client(n_workers=2)\n",
    "\n",
    "project_dir = '/home3/dth2133/data/clim_data_requests/gio'"
   ]
  },
  {
   "cell_type": "code",
   "execution_count": 46,
   "id": "2b83fe9e-6322-4477-abf6-413837987d9e",
   "metadata": {},
   "outputs": [],
   "source": [
    "import os\n",
    "import os.path\n",
    "\n",
    "# Years to aggregate\n",
    "years = np.arange(1951,2020)\n",
    "years = years[years != 1959]\n",
    "\n",
    "georegions = regions.from_path('../Data/usa_simple_noHI_id.shp', regionid='id')\n",
    "georegions = georegions.sel(22)\n"
   ]
  },
  {
   "cell_type": "code",
   "execution_count": 47,
   "id": "b95030b6-af4d-48a2-b197-7136fe7cad92",
   "metadata": {},
   "outputs": [
    {
     "data": {
      "text/plain": [
       "<Axes: >"
      ]
     },
     "execution_count": 47,
     "metadata": {},
     "output_type": "execute_result"
    },
    {
     "data": {
      "image/png": "[encoded data removed]",
      "text/plain": [
       "<Figure size 640x480 with 1 Axes>"
      ]
     },
     "metadata": {},
     "output_type": "display_data"
    }
   ],
   "source": [
    "georegions.shp.plot()"
   ]
  },
  {
   "cell_type": "code",
   "execution_count": 48,
   "id": "e98f0a8c-2594-430d-9052-a08f0286ffc8",
   "metadata": {},
   "outputs": [],
   "source": [
    "secondary_weights = grid_weights.pop_weights.from_path(f'{project_dir}/gpw_v4_population_count_rev11_2000_2pt5_min.tif')"
   ]
  },
  {
   "cell_type": "code",
   "execution_count": 49,
   "id": "7db0583e-fa2d-4bcc-9942-2a9d87ef9d7d",
   "metadata": {},
   "outputs": [],
   "source": [
    "def preprocess_era5l(array):\n",
    "    # Function for cleaning the era5l data.\n",
    "    with dask.config.set(**{'array.slicing.split_large_chunks': False}):   \n",
    "        # Reformat longitude\n",
    "        array.coords['longitude'] = (array.coords['longitude'] + 180) % 360 - 180\n",
    "        array = array.sortby(array.longitude)\n",
    "        # Kelvin -> Celsius\n",
    "        array = array - 273.15\n",
    "    return array\n",
    "\n",
    "# Open example dataset to construct weights.\n",
    "clim = dataset.from_path(\n",
    "    #f\"/Users\\gb2884/The Lab Dropbox/Giovanni Brocca/Macro_Enviro_Dev/1_Data/world_example/era_june_2000_2tm.nc\", \n",
    "    #f\"/Users/gb2884/The Lab Dropbox/Giovanni Brocca/Macro_Enviro_Dev/1_Data/IPUMS_1level_example/era_1st_June_2000_tm.nc\",\n",
    "    f\"{project_dir}/era_06_2000_*.nc\",\n",
    "    var = 't2m',\n",
    "    engine = 'netcdf4',\n",
    "    name='era5',\n",
    "    clip_geom=georegions,\n",
    "    preprocess = preprocess_era5l)"
   ]
  },
  {
   "cell_type": "code",
   "execution_count": 51,
   "id": "9f7aae69-3d7c-4368-b494-0989b6dffc7b",
   "metadata": {},
   "outputs": [
    {
     "name": "stdout",
     "output_type": "stream",
     "text": [
      "Loading weights\n",
      "[########################################] | 100% Completed | 101.56 ms\n",
      "[########################################] | 100% Completed | 102.15 ms\n",
      "Rescaling pop weights to grid.\n",
      "This might take a few minutes and use a lot of memory...\n",
      "[########################################] | 100% Completed | 1.50 sms\n",
      "[########################################] | 100% Completed | 1.60 s\n",
      "Searching for border cells...\n",
      "Negative buffer\n",
      "[########################################] | 100% Completed | 105.11 ms\n",
      "[########################################] | 100% Completed | 202.48 ms\n",
      "[########################################] | 100% Completed | 1.34 sms\n",
      "[########################################] | 100% Completed | 1.44 s\n",
      "Positive buffer\n",
      "[########################################] | 100% Completed | 102.56 ms\n",
      "[########################################] | 100% Completed | 203.25 ms\n",
      "[########################################] | 100% Completed | 1.31 sms\n",
      "[########################################] | 100% Completed | 1.39 s\n",
      "Generating cells...\n",
      "Intersecting...\n",
      "[########################################] | 100% Completed | 208.36 ms\n",
      "[########################################] | 100% Completed | 214.33 ms\n",
      "Calculating area weight\n",
      "[########################################] | 100% Completed | 444.65 ms\n",
      "[########################################] | 100% Completed | 543.83 ms\n"
     ]
    }
   ],
   "source": [
    "# Calculate area and pop layer weights.\n",
    "print(\"Loading weights\")\n",
    "weights = grid_weights.from_objects(\n",
    "    clim,\n",
    "    georegions,\n",
    "    secondary_weights=secondary_weights,\n",
    "    wtype=None,\n",
    "    simplify=0.001)\n",
    "weights.calculate_weights()"
   ]
  },
  {
   "cell_type": "code",
   "execution_count": null,
   "id": "ab441c89-9a03-4922-85fa-5485cd16bb55",
   "metadata": {},
   "outputs": [],
   "source": [
    "aggregate(\n",
    "    aggregation = {\n",
    "        'day': ['avg', 'max', 'min']\n",
    "        'month': 'sum',\n",
    "        'space': 'avg'\n",
    "    }\n",
    "    weights = weights,\n",
    "    clim = clim\n",
    ")"
   ]
  },
  {
   "cell_type": "code",
   "execution_count": 52,
   "id": "43531a26-5dba-4ba8-b4a7-ea4cf1252ff9",
   "metadata": {},
   "outputs": [
    {
     "name": "stdout",
     "output_type": "stream",
     "text": [
      "Scheduling aggregation\n"
     ]
    }
   ],
   "source": [
    "print(\"Scheduling aggregation\")\n",
    "daily = TemporalAggregator('avg', 'time.date')\n",
    "monthly = TemporalAggregator('sum', 'time.month')"
   ]
  },
  {
   "cell_type": "code",
   "execution_count": 53,
   "id": "43fc5019-20e0-49a3-8b6a-5ef71dd43459",
   "metadata": {},
   "outputs": [
    {
     "name": "stdout",
     "output_type": "stream",
     "text": [
      "Aggregating\n"
     ]
    }
   ],
   "source": [
    "print('Aggregating')\n",
    "day_ds = daily.map_execute(clim, weights)\n",
    "month_ds = monthly.map_execute(day_ds, weights)"
   ]
  },
  {
   "cell_type": "code",
   "execution_count": 54,
   "id": "6a339e1f-bbcf-4da4-a845-abfb1e9f9f4d",
   "metadata": {},
   "outputs": [
    {
     "name": "stdout",
     "output_type": "stream",
     "text": [
      "COMPUTING\n",
      "[########################################] | 100% Completed | 49.09 s\n",
      "[########################################] | 100% Completed | 49.19 s\n",
      "[########################################] | 100% Completed | 110.43 ms\n",
      "[########################################] | 100% Completed | 209.25 ms\n"
     ]
    }
   ],
   "source": [
    "names = ['avg']\n",
    "df = SpatialAggregator(month_ds, weights, names=names).compute()"
   ]
  },
  {
   "cell_type": "code",
   "execution_count": 55,
   "id": "0f561600-55cc-4c2d-b89f-38468f9380cb",
   "metadata": {},
   "outputs": [
    {
     "data": {
      "text/html": [
       "<div>\n",
       "<style scoped>\n",
       "    .dataframe tbody tr th:only-of-type {\n",
       "        vertical-align: middle;\n",
       "    }\n",
       "\n",
       "    .dataframe tbody tr th {\n",
       "        vertical-align: top;\n",
       "    }\n",
       "\n",
       "    .dataframe thead th {\n",
       "        text-align: right;\n",
       "    }\n",
       "</style>\n",
       "<table border=\"1\" class=\"dataframe\">\n",
       "  <thead>\n",
       "    <tr style=\"text-align: right;\">\n",
       "      <th></th>\n",
       "      <th>region_id</th>\n",
       "      <th>time</th>\n",
       "      <th>avg</th>\n",
       "    </tr>\n",
       "  </thead>\n",
       "  <tbody>\n",
       "    <tr>\n",
       "      <th>0</th>\n",
       "      <td>0</td>\n",
       "      <td>6</td>\n",
       "      <td>538.384493</td>\n",
       "    </tr>\n",
       "  </tbody>\n",
       "</table>\n",
       "</div>"
      ],
      "text/plain": [
       "   region_id  time         avg\n",
       "0          0     6  538.384493"
      ]
     },
     "execution_count": 55,
     "metadata": {},
     "output_type": "execute_result"
    }
   ],
   "source": [
    "df"
   ]
  },
  {
   "cell_type": "code",
   "execution_count": 35,
   "id": "72812b1e-f203-4256-a8a1-41fc3691cd80",
   "metadata": {},
   "outputs": [],
   "source": [
    "# Clean output dataset and append\n",
    "df = df.reset_index().rename(columns={'time':'month'})\n",
    "df['year'] = 2000\n",
    "df = df[['region_id', 'year', 'month'] + names]\n",
    "df = georegions.shp[['id']].merge(df, left_index=True, right_on='region_id')"
   ]
  },
  {
   "cell_type": "code",
   "execution_count": null,
   "id": "551e7e1f-5d2f-4c57-8756-1babaf306239",
   "metadata": {},
   "outputs": [],
   "source": [
    "df.reset_index().to_feather(f\"{project_dir}/temp_data.feather\")"
   ]
  },
  {
   "cell_type": "code",
   "execution_count": 38,
   "id": "c17c707e-973f-4330-9a04-75e01958de88",
   "metadata": {},
   "outputs": [
    {
     "data": {
      "text/plain": [
       "<Axes: >"
      ]
     },
     "execution_count": 38,
     "metadata": {},
     "output_type": "execute_result"
    },
    {
     "data": {
      "image/png": "[encoded data removed]",
      "text/plain": [
       "<Figure size 640x480 with 1 Axes>"
      ]
     },
     "metadata": {},
     "output_type": "display_data"
    }
   ],
   "source": [
    "slc = df.loc[df.year==2000].groupby('id').mean()\n",
    "georegions.shp.merge(slc, right_index=True, left_on='id').plot(column='avg')"
   ]
  }
 ],
 "metadata": {
  "kernelspec": {
   "display_name": "Python [conda env:.conda-aggfly-dev]",
   "language": "python",
   "name": "conda-env-.conda-aggfly-dev-py"
  },
  "language_info": {
   "codemirror_mode": {
    "name": "ipython",
    "version": 3
   },
   "file_extension": ".py",
   "mimetype": "text/x-python",
   "name": "python",
   "nbconvert_exporter": "python",
   "pygments_lexer": "ipython3",
   "version": "3.9.18"
  }
 },
 "nbformat": 4,
 "nbformat_minor": 5
}
