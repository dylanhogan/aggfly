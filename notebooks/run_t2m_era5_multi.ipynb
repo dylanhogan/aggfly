{
 "cells": [
  {
   "cell_type": "code",
   "execution_count": 1,
   "id": "00cafd18-d708-4910-9fdf-5f997c67e74e",
   "metadata": {
    "tags": []
   },
   "outputs": [],
   "source": [
    "import xarray as xr\n",
    "import numpy as np\n",
    "import glob\n",
    "import os.path\n",
    "\n",
    "from dask.distributed import Client\n",
    "from dask.diagnostics import ProgressBar\n",
    "\n",
    "from aggfly import dataset, regions, grid_weights\n",
    "from aggfly.aggregate import TemporalAggregator, SpatialAggregator, get_time_dim\n",
    "\n",
    "ProgressBar().register()\n",
    "# client = Client()"
   ]
  },
  {
   "cell_type": "code",
   "execution_count": 2,
   "id": "0b29ecda-a44c-46dd-911d-c9213cdaf734",
   "metadata": {},
   "outputs": [],
   "source": [
    "# Set file output name/path\n",
    "output_path = \"/home3/dth2133/data/aggregated/counties/\"\n",
    "output_name = \"usa_counties_corn_monthly\"\n",
    "output_varn = \"dd\"\n",
    "csv = True"
   ]
  },
  {
   "cell_type": "code",
   "execution_count": 4,
   "id": "3721eca8-3636-44b2-aee2-e5a8c9457066",
   "metadata": {},
   "outputs": [],
   "source": [
    "# Open shapefile containing region features.\n",
    "georegions = regions.from_name('counties')\n",
    "\n",
    "# Open example climate dataset to calculate grid weights.\n",
    "clim = dataset.from_path(\n",
    "    f\"/home3/dth2133/data/usa/usa-t2m_tempPrecLand2019.zarr\", \n",
    "    't2m', \n",
    "    'zarr', \n",
    "    preprocess=dataset.timefix_era5l)\n",
    "\n",
    "# Clip climate data to the US (raw data are global)\n",
    "clim.clip_data_to_georegions_extent(georegions)\n",
    "\n",
    "# Rechunk dataset to optimize multithreading\n",
    "clim.rechunk((5, 578, -1, -1, -1, -1))\n",
    "\n",
    "# Calculate area and crop layer weights.\n",
    "weights = grid_weights.from_objects(clim, georegions, crop='corn')\n",
    "\n",
    "# This object covers aggregating hourly and daily data to the yearly \n",
    "# level\n",
    "daily = [TemporalAggregator(\n",
    "    'dd',\n",
    "    agg_from='hour',\n",
    "    agg_to='day', \n",
    "    ddargs=[x,999,0]) for x in range(-3,36)]\n",
    "\n",
    "\n",
    "annual = TemporalAggregator(\n",
    "    'sum', \n",
    "    agg_from='day',\n",
    "    agg_to='month')\n",
    "\n",
    "# This object aggregates cells within a region to the average across \n",
    "# cells, weighted by `weights`, which in this case are the area of the\n",
    "# cell and the share of the cell with corn crops.\n",
    "spatial = SpatialAggregator('avg')\n"
   ]
  },
  {
   "cell_type": "code",
   "execution_count": 5,
   "id": "f904c7ca-d9b7-4525-bed3-e8b5bc3b19a5",
   "metadata": {},
   "outputs": [
    {
     "data": {
      "text/html": [
       "<div><svg style=\"position: absolute; width: 0; height: 0; overflow: hidden\">\n",
       "<defs>\n",
       "<symbol id=\"icon-database\" viewBox=\"0 0 32 32\">\n",
       "<path d=\"M16 0c-8.837 0-16 2.239-16 5v4c0 2.761 7.163 5 16 5s16-2.239 16-5v-4c0-2.761-7.163-5-16-5z\"></path>\n",
       "<path d=\"M16 17c-8.837 0-16-2.239-16-5v6c0 2.761 7.163 5 16 5s16-2.239 16-5v-6c0 2.761-7.163 5-16 5z\"></path>\n",
       "<path d=\"M16 26c-8.837 0-16-2.239-16-5v6c0 2.761 7.163 5 16 5s16-2.239 16-5v-6c0 2.761-7.163 5-16 5z\"></path>\n",
       "</symbol>\n",
       "<symbol id=\"icon-file-text2\" viewBox=\"0 0 32 32\">\n",
       "<path d=\"M28.681 7.159c-0.694-0.947-1.662-2.053-2.724-3.116s-2.169-2.030-3.116-2.724c-1.612-1.182-2.393-1.319-2.841-1.319h-15.5c-1.378 0-2.5 1.121-2.5 2.5v27c0 1.378 1.122 2.5 2.5 2.5h23c1.378 0 2.5-1.122 2.5-2.5v-19.5c0-0.448-0.137-1.23-1.319-2.841zM24.543 5.457c0.959 0.959 1.712 1.825 2.268 2.543h-4.811v-4.811c0.718 0.556 1.584 1.309 2.543 2.268zM28 29.5c0 0.271-0.229 0.5-0.5 0.5h-23c-0.271 0-0.5-0.229-0.5-0.5v-27c0-0.271 0.229-0.5 0.5-0.5 0 0 15.499-0 15.5 0v7c0 0.552 0.448 1 1 1h7v19.5z\"></path>\n",
       "<path d=\"M23 26h-14c-0.552 0-1-0.448-1-1s0.448-1 1-1h14c0.552 0 1 0.448 1 1s-0.448 1-1 1z\"></path>\n",
       "<path d=\"M23 22h-14c-0.552 0-1-0.448-1-1s0.448-1 1-1h14c0.552 0 1 0.448 1 1s-0.448 1-1 1z\"></path>\n",
       "<path d=\"M23 18h-14c-0.552 0-1-0.448-1-1s0.448-1 1-1h14c0.552 0 1 0.448 1 1s-0.448 1-1 1z\"></path>\n",
       "</symbol>\n",
       "</defs>\n",
       "</svg>\n",
       "<style>/* CSS stylesheet for displaying xarray objects in jupyterlab.\n",
       " *\n",
       " */\n",
       "\n",
       ":root {\n",
       "  --xr-font-color0: var(--jp-content-font-color0, rgba(0, 0, 0, 1));\n",
       "  --xr-font-color2: var(--jp-content-font-color2, rgba(0, 0, 0, 0.54));\n",
       "  --xr-font-color3: var(--jp-content-font-color3, rgba(0, 0, 0, 0.38));\n",
       "  --xr-border-color: var(--jp-border-color2, #e0e0e0);\n",
       "  --xr-disabled-color: var(--jp-layout-color3, #bdbdbd);\n",
       "  --xr-background-color: var(--jp-layout-color0, white);\n",
       "  --xr-background-color-row-even: var(--jp-layout-color1, white);\n",
       "  --xr-background-color-row-odd: var(--jp-layout-color2, #eeeeee);\n",
       "}\n",
       "\n",
       "html[theme=dark],\n",
       "body.vscode-dark {\n",
       "  --xr-font-color0: rgba(255, 255, 255, 1);\n",
       "  --xr-font-color2: rgba(255, 255, 255, 0.54);\n",
       "  --xr-font-color3: rgba(255, 255, 255, 0.38);\n",
       "  --xr-border-color: #1F1F1F;\n",
       "  --xr-disabled-color: #515151;\n",
       "  --xr-background-color: #111111;\n",
       "  --xr-background-color-row-even: #111111;\n",
       "  --xr-background-color-row-odd: #313131;\n",
       "}\n",
       "\n",
       ".xr-wrap {\n",
       "  display: block;\n",
       "  min-width: 300px;\n",
       "  max-width: 700px;\n",
       "}\n",
       "\n",
       ".xr-text-repr-fallback {\n",
       "  /* fallback to plain text repr when CSS is not injected (untrusted notebook) */\n",
       "  display: none;\n",
       "}\n",
       "\n",
       ".xr-header {\n",
       "  padding-top: 6px;\n",
       "  padding-bottom: 6px;\n",
       "  margin-bottom: 4px;\n",
       "  border-bottom: solid 1px var(--xr-border-color);\n",
       "}\n",
       "\n",
       ".xr-header > div,\n",
       ".xr-header > ul {\n",
       "  display: inline;\n",
       "  margin-top: 0;\n",
       "  margin-bottom: 0;\n",
       "}\n",
       "\n",
       ".xr-obj-type,\n",
       ".xr-array-name {\n",
       "  margin-left: 2px;\n",
       "  margin-right: 10px;\n",
       "}\n",
       "\n",
       ".xr-obj-type {\n",
       "  color: var(--xr-font-color2);\n",
       "}\n",
       "\n",
       ".xr-sections {\n",
       "  padding-left: 0 !important;\n",
       "  display: grid;\n",
       "  grid-template-columns: 150px auto auto 1fr 20px 20px;\n",
       "}\n",
       "\n",
       ".xr-section-item {\n",
       "  display: contents;\n",
       "}\n",
       "\n",
       ".xr-section-item input {\n",
       "  display: none;\n",
       "}\n",
       "\n",
       ".xr-section-item input + label {\n",
       "  color: var(--xr-disabled-color);\n",
       "}\n",
       "\n",
       ".xr-section-item input:enabled + label {\n",
       "  cursor: pointer;\n",
       "  color: var(--xr-font-color2);\n",
       "}\n",
       "\n",
       ".xr-section-item input:enabled + label:hover {\n",
       "  color: var(--xr-font-color0);\n",
       "}\n",
       "\n",
       ".xr-section-summary {\n",
       "  grid-column: 1;\n",
       "  color: var(--xr-font-color2);\n",
       "  font-weight: 500;\n",
       "}\n",
       "\n",
       ".xr-section-summary > span {\n",
       "  display: inline-block;\n",
       "  padding-left: 0.5em;\n",
       "}\n",
       "\n",
       ".xr-section-summary-in:disabled + label {\n",
       "  color: var(--xr-font-color2);\n",
       "}\n",
       "\n",
       ".xr-section-summary-in + label:before {\n",
       "  display: inline-block;\n",
       "  content: '►';\n",
       "  font-size: 11px;\n",
       "  width: 15px;\n",
       "  text-align: center;\n",
       "}\n",
       "\n",
       ".xr-section-summary-in:disabled + label:before {\n",
       "  color: var(--xr-disabled-color);\n",
       "}\n",
       "\n",
       ".xr-section-summary-in:checked + label:before {\n",
       "  content: '▼';\n",
       "}\n",
       "\n",
       ".xr-section-summary-in:checked + label > span {\n",
       "  display: none;\n",
       "}\n",
       "\n",
       ".xr-section-summary,\n",
       ".xr-section-inline-details {\n",
       "  padding-top: 4px;\n",
       "  padding-bottom: 4px;\n",
       "}\n",
       "\n",
       ".xr-section-inline-details {\n",
       "  grid-column: 2 / -1;\n",
       "}\n",
       "\n",
       ".xr-section-details {\n",
       "  display: none;\n",
       "  grid-column: 1 / -1;\n",
       "  margin-bottom: 5px;\n",
       "}\n",
       "\n",
       ".xr-section-summary-in:checked ~ .xr-section-details {\n",
       "  display: contents;\n",
       "}\n",
       "\n",
       ".xr-array-wrap {\n",
       "  grid-column: 1 / -1;\n",
       "  display: grid;\n",
       "  grid-template-columns: 20px auto;\n",
       "}\n",
       "\n",
       ".xr-array-wrap > label {\n",
       "  grid-column: 1;\n",
       "  vertical-align: top;\n",
       "}\n",
       "\n",
       ".xr-preview {\n",
       "  color: var(--xr-font-color3);\n",
       "}\n",
       "\n",
       ".xr-array-preview,\n",
       ".xr-array-data {\n",
       "  padding: 0 5px !important;\n",
       "  grid-column: 2;\n",
       "}\n",
       "\n",
       ".xr-array-data,\n",
       ".xr-array-in:checked ~ .xr-array-preview {\n",
       "  display: none;\n",
       "}\n",
       "\n",
       ".xr-array-in:checked ~ .xr-array-data,\n",
       ".xr-array-preview {\n",
       "  display: inline-block;\n",
       "}\n",
       "\n",
       ".xr-dim-list {\n",
       "  display: inline-block !important;\n",
       "  list-style: none;\n",
       "  padding: 0 !important;\n",
       "  margin: 0;\n",
       "}\n",
       "\n",
       ".xr-dim-list li {\n",
       "  display: inline-block;\n",
       "  padding: 0;\n",
       "  margin: 0;\n",
       "}\n",
       "\n",
       ".xr-dim-list:before {\n",
       "  content: '(';\n",
       "}\n",
       "\n",
       ".xr-dim-list:after {\n",
       "  content: ')';\n",
       "}\n",
       "\n",
       ".xr-dim-list li:not(:last-child):after {\n",
       "  content: ',';\n",
       "  padding-right: 5px;\n",
       "}\n",
       "\n",
       ".xr-has-index {\n",
       "  font-weight: bold;\n",
       "}\n",
       "\n",
       ".xr-var-list,\n",
       ".xr-var-item {\n",
       "  display: contents;\n",
       "}\n",
       "\n",
       ".xr-var-item > div,\n",
       ".xr-var-item label,\n",
       ".xr-var-item > .xr-var-name span {\n",
       "  background-color: var(--xr-background-color-row-even);\n",
       "  margin-bottom: 0;\n",
       "}\n",
       "\n",
       ".xr-var-item > .xr-var-name:hover span {\n",
       "  padding-right: 5px;\n",
       "}\n",
       "\n",
       ".xr-var-list > li:nth-child(odd) > div,\n",
       ".xr-var-list > li:nth-child(odd) > label,\n",
       ".xr-var-list > li:nth-child(odd) > .xr-var-name span {\n",
       "  background-color: var(--xr-background-color-row-odd);\n",
       "}\n",
       "\n",
       ".xr-var-name {\n",
       "  grid-column: 1;\n",
       "}\n",
       "\n",
       ".xr-var-dims {\n",
       "  grid-column: 2;\n",
       "}\n",
       "\n",
       ".xr-var-dtype {\n",
       "  grid-column: 3;\n",
       "  text-align: right;\n",
       "  color: var(--xr-font-color2);\n",
       "}\n",
       "\n",
       ".xr-var-preview {\n",
       "  grid-column: 4;\n",
       "}\n",
       "\n",
       ".xr-var-name,\n",
       ".xr-var-dims,\n",
       ".xr-var-dtype,\n",
       ".xr-preview,\n",
       ".xr-attrs dt {\n",
       "  white-space: nowrap;\n",
       "  overflow: hidden;\n",
       "  text-overflow: ellipsis;\n",
       "  padding-right: 10px;\n",
       "}\n",
       "\n",
       ".xr-var-name:hover,\n",
       ".xr-var-dims:hover,\n",
       ".xr-var-dtype:hover,\n",
       ".xr-attrs dt:hover {\n",
       "  overflow: visible;\n",
       "  width: auto;\n",
       "  z-index: 1;\n",
       "}\n",
       "\n",
       ".xr-var-attrs,\n",
       ".xr-var-data {\n",
       "  display: none;\n",
       "  background-color: var(--xr-background-color) !important;\n",
       "  padding-bottom: 5px !important;\n",
       "}\n",
       "\n",
       ".xr-var-attrs-in:checked ~ .xr-var-attrs,\n",
       ".xr-var-data-in:checked ~ .xr-var-data {\n",
       "  display: block;\n",
       "}\n",
       "\n",
       ".xr-var-data > table {\n",
       "  float: right;\n",
       "}\n",
       "\n",
       ".xr-var-name span,\n",
       ".xr-var-data,\n",
       ".xr-attrs {\n",
       "  padding-left: 25px !important;\n",
       "}\n",
       "\n",
       ".xr-attrs,\n",
       ".xr-var-attrs,\n",
       ".xr-var-data {\n",
       "  grid-column: 1 / -1;\n",
       "}\n",
       "\n",
       "dl.xr-attrs {\n",
       "  padding: 0;\n",
       "  margin: 0;\n",
       "  display: grid;\n",
       "  grid-template-columns: 125px auto;\n",
       "}\n",
       "\n",
       ".xr-attrs dt,\n",
       ".xr-attrs dd {\n",
       "  padding: 0;\n",
       "  margin: 0;\n",
       "  float: left;\n",
       "  padding-right: 10px;\n",
       "  width: auto;\n",
       "}\n",
       "\n",
       ".xr-attrs dt {\n",
       "  font-weight: normal;\n",
       "  grid-column: 1;\n",
       "}\n",
       "\n",
       ".xr-attrs dt:hover span {\n",
       "  display: inline-block;\n",
       "  background: var(--xr-background-color);\n",
       "  padding-right: 10px;\n",
       "}\n",
       "\n",
       ".xr-attrs dd {\n",
       "  grid-column: 2;\n",
       "  white-space: pre-wrap;\n",
       "  word-break: break-all;\n",
       "}\n",
       "\n",
       ".xr-icon-database,\n",
       ".xr-icon-file-text2 {\n",
       "  display: inline-block;\n",
       "  vertical-align: middle;\n",
       "  width: 1em;\n",
       "  height: 1.5em !important;\n",
       "  stroke-width: 0;\n",
       "  stroke: currentColor;\n",
       "  fill: currentColor;\n",
       "}\n",
       "</style><pre class='xr-text-repr-fallback'>&lt;xarray.DataArray &#x27;t2m&#x27; (latitude: 250, longitude: 578, year: 1, month: 12, day: 31, hour: 24)&gt;\n",
       "dask.array&lt;rechunk-merge, shape=(250, 578, 1, 12, 31, 24), dtype=float32, chunksize=(5, 578, 1, 12, 31, 24), chunktype=numpy.ndarray&gt;\n",
       "Coordinates:\n",
       "  * latitude   (latitude) float32 49.4 49.3 49.2 49.1 ... 24.8 24.7 24.6 24.5\n",
       "  * longitude  (longitude) float32 -124.7 -124.6 -124.5 ... -67.2 -67.1 -67.0\n",
       "  * year       (year) int64 2019\n",
       "  * month      (month) int64 1 2 3 4 5 6 7 8 9 10 11 12\n",
       "  * day        (day) int64 1 2 3 4 5 6 7 8 9 10 ... 23 24 25 26 27 28 29 30 31\n",
       "  * hour       (hour) int64 0 1 2 3 4 5 6 7 8 9 ... 15 16 17 18 19 20 21 22 23</pre><div class='xr-wrap' hidden><div class='xr-header'><div class='xr-obj-type'>xarray.DataArray</div><div class='xr-array-name'>'t2m'</div><ul class='xr-dim-list'><li><span class='xr-has-index'>latitude</span>: 250</li><li><span class='xr-has-index'>longitude</span>: 578</li><li><span class='xr-has-index'>year</span>: 1</li><li><span class='xr-has-index'>month</span>: 12</li><li><span class='xr-has-index'>day</span>: 31</li><li><span class='xr-has-index'>hour</span>: 24</li></ul></div><ul class='xr-sections'><li class='xr-section-item'><div class='xr-array-wrap'><input id='section-e77d28db-7ae8-466b-82af-2a5cf7dd25da' class='xr-array-in' type='checkbox' checked><label for='section-e77d28db-7ae8-466b-82af-2a5cf7dd25da' title='Show/hide data repr'><svg class='icon xr-icon-database'><use xlink:href='#icon-database'></use></svg></label><div class='xr-array-preview xr-preview'><span>dask.array&lt;chunksize=(5, 578, 1, 12, 31, 24), meta=np.ndarray&gt;</span></div><div class='xr-array-data'><table>\n",
       "    <tr>\n",
       "        <td>\n",
       "            <table>\n",
       "                <thead>\n",
       "                    <tr>\n",
       "                        <td> </td>\n",
       "                        <th> Array </th>\n",
       "                        <th> Chunk </th>\n",
       "                    </tr>\n",
       "                </thead>\n",
       "                <tbody>\n",
       "                    \n",
       "                    <tr>\n",
       "                        <th> Bytes </th>\n",
       "                        <td> 4.81 GiB </td>\n",
       "                        <td> 98.43 MiB </td>\n",
       "                    </tr>\n",
       "                    \n",
       "                    <tr>\n",
       "                        <th> Shape </th>\n",
       "                        <td> (250, 578, 1, 12, 31, 24) </td>\n",
       "                        <td> (5, 578, 1, 12, 31, 24) </td>\n",
       "                    </tr>\n",
       "                    <tr>\n",
       "                        <th> Count </th>\n",
       "                        <td> 3640 Tasks </td>\n",
       "                        <td> 50 Chunks </td>\n",
       "                    </tr>\n",
       "                    <tr>\n",
       "                    <th> Type </th>\n",
       "                    <td> float32 </td>\n",
       "                    <td> numpy.ndarray </td>\n",
       "                    </tr>\n",
       "                </tbody>\n",
       "            </table>\n",
       "        </td>\n",
       "        <td>\n",
       "        <svg width=\"370\" height=\"200\" style=\"stroke:rgb(0,0,0);stroke-width:1\" >\n",
       "\n",
       "  <!-- Horizontal lines -->\n",
       "  <line x1=\"10\" y1=\"0\" x2=\"40\" y2=\"30\" style=\"stroke-width:2\" />\n",
       "  <line x1=\"10\" y1=\"120\" x2=\"40\" y2=\"150\" style=\"stroke-width:2\" />\n",
       "\n",
       "  <!-- Vertical lines -->\n",
       "  <line x1=\"10\" y1=\"0\" x2=\"10\" y2=\"120\" style=\"stroke-width:2\" />\n",
       "  <line x1=\"10\" y1=\"0\" x2=\"10\" y2=\"120\" />\n",
       "  <line x1=\"11\" y1=\"1\" x2=\"11\" y2=\"121\" />\n",
       "  <line x1=\"12\" y1=\"2\" x2=\"12\" y2=\"122\" />\n",
       "  <line x1=\"13\" y1=\"3\" x2=\"13\" y2=\"123\" />\n",
       "  <line x1=\"14\" y1=\"4\" x2=\"14\" y2=\"124\" />\n",
       "  <line x1=\"15\" y1=\"5\" x2=\"15\" y2=\"125\" />\n",
       "  <line x1=\"16\" y1=\"6\" x2=\"16\" y2=\"126\" />\n",
       "  <line x1=\"17\" y1=\"7\" x2=\"17\" y2=\"127\" />\n",
       "  <line x1=\"18\" y1=\"8\" x2=\"18\" y2=\"128\" />\n",
       "  <line x1=\"19\" y1=\"9\" x2=\"19\" y2=\"129\" />\n",
       "  <line x1=\"20\" y1=\"10\" x2=\"20\" y2=\"130\" />\n",
       "  <line x1=\"20\" y1=\"10\" x2=\"20\" y2=\"130\" />\n",
       "  <line x1=\"22\" y1=\"12\" x2=\"22\" y2=\"132\" />\n",
       "  <line x1=\"22\" y1=\"12\" x2=\"22\" y2=\"132\" />\n",
       "  <line x1=\"24\" y1=\"14\" x2=\"24\" y2=\"134\" />\n",
       "  <line x1=\"25\" y1=\"15\" x2=\"25\" y2=\"135\" />\n",
       "  <line x1=\"25\" y1=\"15\" x2=\"25\" y2=\"135\" />\n",
       "  <line x1=\"27\" y1=\"17\" x2=\"27\" y2=\"137\" />\n",
       "  <line x1=\"27\" y1=\"17\" x2=\"27\" y2=\"137\" />\n",
       "  <line x1=\"28\" y1=\"18\" x2=\"28\" y2=\"138\" />\n",
       "  <line x1=\"29\" y1=\"19\" x2=\"29\" y2=\"139\" />\n",
       "  <line x1=\"30\" y1=\"20\" x2=\"30\" y2=\"140\" />\n",
       "  <line x1=\"31\" y1=\"21\" x2=\"31\" y2=\"141\" />\n",
       "  <line x1=\"32\" y1=\"22\" x2=\"32\" y2=\"142\" />\n",
       "  <line x1=\"33\" y1=\"23\" x2=\"33\" y2=\"143\" />\n",
       "  <line x1=\"34\" y1=\"24\" x2=\"34\" y2=\"144\" />\n",
       "  <line x1=\"35\" y1=\"25\" x2=\"35\" y2=\"145\" />\n",
       "  <line x1=\"36\" y1=\"26\" x2=\"36\" y2=\"146\" />\n",
       "  <line x1=\"37\" y1=\"27\" x2=\"37\" y2=\"147\" />\n",
       "  <line x1=\"38\" y1=\"28\" x2=\"38\" y2=\"148\" />\n",
       "  <line x1=\"39\" y1=\"29\" x2=\"39\" y2=\"149\" />\n",
       "  <line x1=\"40\" y1=\"30\" x2=\"40\" y2=\"150\" style=\"stroke-width:2\" />\n",
       "\n",
       "  <!-- Colored Rectangle -->\n",
       "  <polygon points=\"10.0,0.0 40.531243639324245,30.531243639324245 40.531243639324245,150.53124363932426 10.0,120.0\" style=\"fill:#8B4903A0;stroke-width:0\"/>\n",
       "\n",
       "  <!-- Horizontal lines -->\n",
       "  <line x1=\"10\" y1=\"0\" x2=\"35\" y2=\"0\" style=\"stroke-width:2\" />\n",
       "  <line x1=\"10\" y1=\"0\" x2=\"36\" y2=\"0\" />\n",
       "  <line x1=\"11\" y1=\"1\" x2=\"37\" y2=\"1\" />\n",
       "  <line x1=\"12\" y1=\"2\" x2=\"37\" y2=\"2\" />\n",
       "  <line x1=\"13\" y1=\"3\" x2=\"39\" y2=\"3\" />\n",
       "  <line x1=\"14\" y1=\"4\" x2=\"39\" y2=\"4\" />\n",
       "  <line x1=\"15\" y1=\"5\" x2=\"40\" y2=\"5\" />\n",
       "  <line x1=\"16\" y1=\"6\" x2=\"41\" y2=\"6\" />\n",
       "  <line x1=\"17\" y1=\"7\" x2=\"42\" y2=\"7\" />\n",
       "  <line x1=\"18\" y1=\"8\" x2=\"43\" y2=\"8\" />\n",
       "  <line x1=\"19\" y1=\"9\" x2=\"44\" y2=\"9\" />\n",
       "  <line x1=\"20\" y1=\"10\" x2=\"45\" y2=\"10\" />\n",
       "  <line x1=\"20\" y1=\"10\" x2=\"46\" y2=\"10\" />\n",
       "  <line x1=\"22\" y1=\"12\" x2=\"47\" y2=\"12\" />\n",
       "  <line x1=\"22\" y1=\"12\" x2=\"48\" y2=\"12\" />\n",
       "  <line x1=\"24\" y1=\"14\" x2=\"49\" y2=\"14\" />\n",
       "  <line x1=\"25\" y1=\"15\" x2=\"50\" y2=\"15\" />\n",
       "  <line x1=\"25\" y1=\"15\" x2=\"51\" y2=\"15\" />\n",
       "  <line x1=\"27\" y1=\"17\" x2=\"52\" y2=\"17\" />\n",
       "  <line x1=\"27\" y1=\"17\" x2=\"53\" y2=\"17\" />\n",
       "  <line x1=\"28\" y1=\"18\" x2=\"54\" y2=\"18\" />\n",
       "  <line x1=\"29\" y1=\"19\" x2=\"54\" y2=\"19\" />\n",
       "  <line x1=\"30\" y1=\"20\" x2=\"56\" y2=\"20\" />\n",
       "  <line x1=\"31\" y1=\"21\" x2=\"56\" y2=\"21\" />\n",
       "  <line x1=\"32\" y1=\"22\" x2=\"58\" y2=\"22\" />\n",
       "  <line x1=\"33\" y1=\"23\" x2=\"59\" y2=\"23\" />\n",
       "  <line x1=\"34\" y1=\"24\" x2=\"59\" y2=\"24\" />\n",
       "  <line x1=\"35\" y1=\"25\" x2=\"61\" y2=\"25\" />\n",
       "  <line x1=\"36\" y1=\"26\" x2=\"61\" y2=\"26\" />\n",
       "  <line x1=\"37\" y1=\"27\" x2=\"62\" y2=\"27\" />\n",
       "  <line x1=\"38\" y1=\"28\" x2=\"63\" y2=\"28\" />\n",
       "  <line x1=\"39\" y1=\"29\" x2=\"64\" y2=\"29\" />\n",
       "  <line x1=\"40\" y1=\"30\" x2=\"65\" y2=\"30\" style=\"stroke-width:2\" />\n",
       "\n",
       "  <!-- Vertical lines -->\n",
       "  <line x1=\"10\" y1=\"0\" x2=\"40\" y2=\"30\" style=\"stroke-width:2\" />\n",
       "  <line x1=\"35\" y1=\"0\" x2=\"65\" y2=\"30\" style=\"stroke-width:2\" />\n",
       "\n",
       "  <!-- Colored Rectangle -->\n",
       "  <polygon points=\"10.0,0.0 35.41261651458248,0.0 65.94386015390673,30.531243639324245 40.531243639324245,30.531243639324245\" style=\"fill:#8B4903A0;stroke-width:0\"/>\n",
       "\n",
       "  <!-- Horizontal lines -->\n",
       "  <line x1=\"40\" y1=\"30\" x2=\"65\" y2=\"30\" style=\"stroke-width:2\" />\n",
       "  <line x1=\"40\" y1=\"150\" x2=\"65\" y2=\"150\" style=\"stroke-width:2\" />\n",
       "\n",
       "  <!-- Vertical lines -->\n",
       "  <line x1=\"40\" y1=\"30\" x2=\"40\" y2=\"150\" style=\"stroke-width:2\" />\n",
       "  <line x1=\"65\" y1=\"30\" x2=\"65\" y2=\"150\" style=\"stroke-width:2\" />\n",
       "\n",
       "  <!-- Colored Rectangle -->\n",
       "  <polygon points=\"40.531243639324245,30.531243639324245 65.94386015390673,30.531243639324245 65.94386015390673,150.53124363932426 40.531243639324245,150.53124363932426\" style=\"fill:#ECB172A0;stroke-width:0\"/>\n",
       "\n",
       "  <!-- Text -->\n",
       "  <text x=\"53.237552\" y=\"170.531244\" font-size=\"1.0rem\" font-weight=\"100\" text-anchor=\"middle\" >1</text>\n",
       "  <text x=\"85.943860\" y=\"90.531244\" font-size=\"1.0rem\" font-weight=\"100\" text-anchor=\"middle\" transform=\"rotate(-90,85.943860,90.531244)\">578</text>\n",
       "  <text x=\"15.265622\" y=\"155.265622\" font-size=\"1.0rem\" font-weight=\"100\" text-anchor=\"middle\" transform=\"rotate(45,15.265622,155.265622)\">250</text>\n",
       "\n",
       "\n",
       "  <!-- Horizontal lines -->\n",
       "  <line x1=\"135\" y1=\"0\" x2=\"152\" y2=\"17\" style=\"stroke-width:2\" />\n",
       "  <line x1=\"135\" y1=\"34\" x2=\"152\" y2=\"52\" style=\"stroke-width:2\" />\n",
       "\n",
       "  <!-- Vertical lines -->\n",
       "  <line x1=\"135\" y1=\"0\" x2=\"135\" y2=\"34\" style=\"stroke-width:2\" />\n",
       "  <line x1=\"152\" y1=\"17\" x2=\"152\" y2=\"52\" style=\"stroke-width:2\" />\n",
       "\n",
       "  <!-- Colored Rectangle -->\n",
       "  <polygon points=\"135.0,0.0 152.2009324854699,17.200932485469902 152.2009324854699,52.130925907301005 135.0,34.9299934218311\" style=\"fill:#ECB172A0;stroke-width:0\"/>\n",
       "\n",
       "  <!-- Horizontal lines -->\n",
       "  <line x1=\"135\" y1=\"0\" x2=\"168\" y2=\"0\" style=\"stroke-width:2\" />\n",
       "  <line x1=\"152\" y1=\"17\" x2=\"185\" y2=\"17\" style=\"stroke-width:2\" />\n",
       "\n",
       "  <!-- Vertical lines -->\n",
       "  <line x1=\"135\" y1=\"0\" x2=\"152\" y2=\"17\" style=\"stroke-width:2\" />\n",
       "  <line x1=\"168\" y1=\"0\" x2=\"185\" y2=\"17\" style=\"stroke-width:2\" />\n",
       "\n",
       "  <!-- Colored Rectangle -->\n",
       "  <polygon points=\"135.0,0.0 168.36247420066758,0.0 185.56340668613748,17.200932485469902 152.2009324854699,17.200932485469902\" style=\"fill:#ECB172A0;stroke-width:0\"/>\n",
       "\n",
       "  <!-- Horizontal lines -->\n",
       "  <line x1=\"152\" y1=\"17\" x2=\"185\" y2=\"17\" style=\"stroke-width:2\" />\n",
       "  <line x1=\"152\" y1=\"52\" x2=\"185\" y2=\"52\" style=\"stroke-width:2\" />\n",
       "\n",
       "  <!-- Vertical lines -->\n",
       "  <line x1=\"152\" y1=\"17\" x2=\"152\" y2=\"52\" style=\"stroke-width:2\" />\n",
       "  <line x1=\"185\" y1=\"17\" x2=\"185\" y2=\"52\" style=\"stroke-width:2\" />\n",
       "\n",
       "  <!-- Colored Rectangle -->\n",
       "  <polygon points=\"152.2009324854699,17.200932485469902 185.56340668613745,17.200932485469902 185.56340668613745,52.130925907301005 152.2009324854699,52.130925907301005\" style=\"fill:#ECB172A0;stroke-width:0\"/>\n",
       "\n",
       "  <!-- Text -->\n",
       "  <text x=\"168.882170\" y=\"72.130926\" font-size=\"1.0rem\" font-weight=\"100\" text-anchor=\"middle\" >24</text>\n",
       "  <text x=\"205.563407\" y=\"34.665929\" font-size=\"1.0rem\" font-weight=\"100\" text-anchor=\"middle\" transform=\"rotate(0,205.563407,34.665929)\">31</text>\n",
       "  <text x=\"133.600466\" y=\"63.530460\" font-size=\"1.0rem\" font-weight=\"100\" text-anchor=\"middle\" transform=\"rotate(45,133.600466,63.530460)\">12</text>\n",
       "</svg>\n",
       "        </td>\n",
       "    </tr>\n",
       "</table></div></div></li><li class='xr-section-item'><input id='section-fce54cfa-21d9-416e-b0ff-1a4449a677a0' class='xr-section-summary-in' type='checkbox'  checked><label for='section-fce54cfa-21d9-416e-b0ff-1a4449a677a0' class='xr-section-summary' >Coordinates: <span>(6)</span></label><div class='xr-section-inline-details'></div><div class='xr-section-details'><ul class='xr-var-list'><li class='xr-var-item'><div class='xr-var-name'><span class='xr-has-index'>latitude</span></div><div class='xr-var-dims'>(latitude)</div><div class='xr-var-dtype'>float32</div><div class='xr-var-preview xr-preview'>49.4 49.3 49.2 ... 24.7 24.6 24.5</div><input id='attrs-52274675-ae94-472b-a372-d6c6e079a6d3' class='xr-var-attrs-in' type='checkbox' ><label for='attrs-52274675-ae94-472b-a372-d6c6e079a6d3' title='Show/Hide attributes'><svg class='icon xr-icon-file-text2'><use xlink:href='#icon-file-text2'></use></svg></label><input id='data-c2b54ebd-6efd-419f-8985-ba528aa5bf09' class='xr-var-data-in' type='checkbox'><label for='data-c2b54ebd-6efd-419f-8985-ba528aa5bf09' title='Show/Hide data repr'><svg class='icon xr-icon-database'><use xlink:href='#icon-database'></use></svg></label><div class='xr-var-attrs'><dl class='xr-attrs'><dt><span>long_name :</span></dt><dd>latitude</dd><dt><span>units :</span></dt><dd>degrees_north</dd></dl></div><div class='xr-var-data'><pre>array([49.4, 49.3, 49.2, ..., 24.7, 24.6, 24.5], dtype=float32)</pre></div></li><li class='xr-var-item'><div class='xr-var-name'><span class='xr-has-index'>longitude</span></div><div class='xr-var-dims'>(longitude)</div><div class='xr-var-dtype'>float32</div><div class='xr-var-preview xr-preview'>-124.7 -124.6 ... -67.1 -67.0</div><input id='attrs-93cf5e55-0565-4817-b86d-456f02dab3e7' class='xr-var-attrs-in' type='checkbox' disabled><label for='attrs-93cf5e55-0565-4817-b86d-456f02dab3e7' title='Show/Hide attributes'><svg class='icon xr-icon-file-text2'><use xlink:href='#icon-file-text2'></use></svg></label><input id='data-1824cb62-0e81-43f9-a814-ec01ed3496ec' class='xr-var-data-in' type='checkbox'><label for='data-1824cb62-0e81-43f9-a814-ec01ed3496ec' title='Show/Hide data repr'><svg class='icon xr-icon-database'><use xlink:href='#icon-database'></use></svg></label><div class='xr-var-attrs'><dl class='xr-attrs'></dl></div><div class='xr-var-data'><pre>array([-124.70001 , -124.600006, -124.5     , ...,  -67.20001 ,  -67.100006,\n",
       "        -67.      ], dtype=float32)</pre></div></li><li class='xr-var-item'><div class='xr-var-name'><span class='xr-has-index'>year</span></div><div class='xr-var-dims'>(year)</div><div class='xr-var-dtype'>int64</div><div class='xr-var-preview xr-preview'>2019</div><input id='attrs-f1054257-a209-4b88-89b3-b2fae114c914' class='xr-var-attrs-in' type='checkbox' disabled><label for='attrs-f1054257-a209-4b88-89b3-b2fae114c914' title='Show/Hide attributes'><svg class='icon xr-icon-file-text2'><use xlink:href='#icon-file-text2'></use></svg></label><input id='data-c87cdfa0-1632-4d7d-a77f-1cee8542fff7' class='xr-var-data-in' type='checkbox'><label for='data-c87cdfa0-1632-4d7d-a77f-1cee8542fff7' title='Show/Hide data repr'><svg class='icon xr-icon-database'><use xlink:href='#icon-database'></use></svg></label><div class='xr-var-attrs'><dl class='xr-attrs'></dl></div><div class='xr-var-data'><pre>array([2019])</pre></div></li><li class='xr-var-item'><div class='xr-var-name'><span class='xr-has-index'>month</span></div><div class='xr-var-dims'>(month)</div><div class='xr-var-dtype'>int64</div><div class='xr-var-preview xr-preview'>1 2 3 4 5 6 7 8 9 10 11 12</div><input id='attrs-bcfbf49f-347b-478e-86ed-d17a95750681' class='xr-var-attrs-in' type='checkbox' disabled><label for='attrs-bcfbf49f-347b-478e-86ed-d17a95750681' title='Show/Hide attributes'><svg class='icon xr-icon-file-text2'><use xlink:href='#icon-file-text2'></use></svg></label><input id='data-a1085911-9555-46ba-a0bb-45ee66ec3f60' class='xr-var-data-in' type='checkbox'><label for='data-a1085911-9555-46ba-a0bb-45ee66ec3f60' title='Show/Hide data repr'><svg class='icon xr-icon-database'><use xlink:href='#icon-database'></use></svg></label><div class='xr-var-attrs'><dl class='xr-attrs'></dl></div><div class='xr-var-data'><pre>array([ 1,  2,  3,  4,  5,  6,  7,  8,  9, 10, 11, 12])</pre></div></li><li class='xr-var-item'><div class='xr-var-name'><span class='xr-has-index'>day</span></div><div class='xr-var-dims'>(day)</div><div class='xr-var-dtype'>int64</div><div class='xr-var-preview xr-preview'>1 2 3 4 5 6 7 ... 26 27 28 29 30 31</div><input id='attrs-0c7d0edb-2f6f-4aba-8d6a-33b6af3c05dc' class='xr-var-attrs-in' type='checkbox' disabled><label for='attrs-0c7d0edb-2f6f-4aba-8d6a-33b6af3c05dc' title='Show/Hide attributes'><svg class='icon xr-icon-file-text2'><use xlink:href='#icon-file-text2'></use></svg></label><input id='data-4f7a4c68-341b-49e4-91a9-2fae5b152009' class='xr-var-data-in' type='checkbox'><label for='data-4f7a4c68-341b-49e4-91a9-2fae5b152009' title='Show/Hide data repr'><svg class='icon xr-icon-database'><use xlink:href='#icon-database'></use></svg></label><div class='xr-var-attrs'><dl class='xr-attrs'></dl></div><div class='xr-var-data'><pre>array([ 1,  2,  3,  4,  5,  6,  7,  8,  9, 10, 11, 12, 13, 14, 15, 16, 17, 18,\n",
       "       19, 20, 21, 22, 23, 24, 25, 26, 27, 28, 29, 30, 31])</pre></div></li><li class='xr-var-item'><div class='xr-var-name'><span class='xr-has-index'>hour</span></div><div class='xr-var-dims'>(hour)</div><div class='xr-var-dtype'>int64</div><div class='xr-var-preview xr-preview'>0 1 2 3 4 5 6 ... 18 19 20 21 22 23</div><input id='attrs-8fb84906-1a07-49e3-a6e7-01c9a3f69d48' class='xr-var-attrs-in' type='checkbox' disabled><label for='attrs-8fb84906-1a07-49e3-a6e7-01c9a3f69d48' title='Show/Hide attributes'><svg class='icon xr-icon-file-text2'><use xlink:href='#icon-file-text2'></use></svg></label><input id='data-5414297e-c167-463f-af00-dfb44c45442a' class='xr-var-data-in' type='checkbox'><label for='data-5414297e-c167-463f-af00-dfb44c45442a' title='Show/Hide data repr'><svg class='icon xr-icon-database'><use xlink:href='#icon-database'></use></svg></label><div class='xr-var-attrs'><dl class='xr-attrs'></dl></div><div class='xr-var-data'><pre>array([ 0,  1,  2,  3,  4,  5,  6,  7,  8,  9, 10, 11, 12, 13, 14, 15, 16, 17,\n",
       "       18, 19, 20, 21, 22, 23])</pre></div></li></ul></div></li><li class='xr-section-item'><input id='section-19947066-6489-438f-bcad-d388c2f92816' class='xr-section-summary-in' type='checkbox' disabled ><label for='section-19947066-6489-438f-bcad-d388c2f92816' class='xr-section-summary'  title='Expand/collapse section'>Attributes: <span>(0)</span></label><div class='xr-section-inline-details'></div><div class='xr-section-details'><dl class='xr-attrs'></dl></div></li></ul></div></div>"
      ],
      "text/plain": [
       "<xarray.DataArray 't2m' (latitude: 250, longitude: 578, year: 1, month: 12, day: 31, hour: 24)>\n",
       "dask.array<rechunk-merge, shape=(250, 578, 1, 12, 31, 24), dtype=float32, chunksize=(5, 578, 1, 12, 31, 24), chunktype=numpy.ndarray>\n",
       "Coordinates:\n",
       "  * latitude   (latitude) float32 49.4 49.3 49.2 49.1 ... 24.8 24.7 24.6 24.5\n",
       "  * longitude  (longitude) float32 -124.7 -124.6 -124.5 ... -67.2 -67.1 -67.0\n",
       "  * year       (year) int64 2019\n",
       "  * month      (month) int64 1 2 3 4 5 6 7 8 9 10 11 12\n",
       "  * day        (day) int64 1 2 3 4 5 6 7 8 9 10 ... 23 24 25 26 27 28 29 30 31\n",
       "  * hour       (hour) int64 0 1 2 3 4 5 6 7 8 9 ... 15 16 17 18 19 20 21 22 23"
      ]
     },
     "execution_count": 5,
     "metadata": {},
     "output_type": "execute_result"
    }
   ],
   "source": [
    "# list(range(-3,35))\n",
    "clim.da"
   ]
  },
  {
   "cell_type": "code",
   "execution_count": 6,
   "id": "b5ced523-d914-4e08-94f5-b00cecbf4d8d",
   "metadata": {},
   "outputs": [
    {
     "name": "stdout",
     "output_type": "stream",
     "text": [
      "[########################################] | 100% Completed |  0.1s\n",
      "[########################################] | 100% Completed | 22.8s\n",
      "[########################################] | 100% Completed | 21.9s\n",
      "[########################################] | 100% Completed | 44.7s\n",
      "[########################################] | 100% Completed |  0.1s\n",
      "[########################################] | 100% Completed |  0.1s\n"
     ]
    }
   ],
   "source": [
    "# Calculate the grid weights\n",
    "w = weights.weights()"
   ]
  },
  {
   "cell_type": "code",
   "execution_count": 8,
   "id": "5d694462-857e-46ee-8eb3-b39f3d8b4b7b",
   "metadata": {},
   "outputs": [],
   "source": [
    "def aggregate_era5l_t2m_multi(path):\n",
    "    \n",
    "    # path = \"/home3/dth2133/data/usa/usa-t2m_tempPrecLand1969.zarr\"\n",
    "    # Open climate dataset.\n",
    "    clim = dataset.from_path(\n",
    "        path, \n",
    "        't2m', \n",
    "        'zarr', \n",
    "        preprocess=dataset.timefix_era5l) # Kelvin to Celsius\n",
    "    \n",
    "    # Clip climate data to the US (raw data are global)\n",
    "    clim.clip_data_to_georegions_extent(georegions)\n",
    "    # Rechunk dataset to optimize multithreading\n",
    "    clim.rechunk((5, 578, -1, -1, -1))\n",
    "    \n",
    "    daily_list = [x.map_execute(clim.da.data) for x in daily]\n",
    "    annual_list = [annual.map_execute(x) for x in daily_list]\n",
    "    rc_list = [x.rechunk(-1) for x in annual_list]\n",
    "    spatial_list = [spatial.map_execute(x, w) for x in rc_list]\n",
    "    \n",
    "    return spatial_list\n",
    "    "
   ]
  },
  {
   "cell_type": "code",
   "execution_count": 9,
   "id": "08ae7a49-1f83-408b-9346-dee9151c9990",
   "metadata": {
    "scrolled": true,
    "tags": []
   },
   "outputs": [
    {
     "name": "stdout",
     "output_type": "stream",
     "text": [
      "/home3/dth2133/data/usa/usa-t2m_tempPrecLand1951.zarr\n",
      "/home3/dth2133/data/usa/usa-t2m_tempPrecLand1952.zarr\n",
      "/home3/dth2133/data/usa/usa-t2m_tempPrecLand1953.zarr\n",
      "/home3/dth2133/data/usa/usa-t2m_tempPrecLand1954.zarr\n",
      "/home3/dth2133/data/usa/usa-t2m_tempPrecLand1955.zarr\n",
      "/home3/dth2133/data/usa/usa-t2m_tempPrecLand1956.zarr\n",
      "/home3/dth2133/data/usa/usa-t2m_tempPrecLand1957.zarr\n",
      "/home3/dth2133/data/usa/usa-t2m_tempPrecLand1958.zarr\n",
      "/home3/dth2133/data/usa/usa-t2m_tempPrecLand1960.zarr\n",
      "/home3/dth2133/data/usa/usa-t2m_tempPrecLand1961.zarr\n",
      "/home3/dth2133/data/usa/usa-t2m_tempPrecLand1962.zarr\n",
      "/home3/dth2133/data/usa/usa-t2m_tempPrecLand1963.zarr\n",
      "/home3/dth2133/data/usa/usa-t2m_tempPrecLand1964.zarr\n",
      "/home3/dth2133/data/usa/usa-t2m_tempPrecLand1965.zarr\n",
      "/home3/dth2133/data/usa/usa-t2m_tempPrecLand1966.zarr\n",
      "/home3/dth2133/data/usa/usa-t2m_tempPrecLand1967.zarr\n",
      "/home3/dth2133/data/usa/usa-t2m_tempPrecLand1968.zarr\n",
      "/home3/dth2133/data/usa/usa-t2m_tempPrecLand1969.zarr\n",
      "/home3/dth2133/data/usa/usa-t2m_tempPrecLand1970.zarr\n",
      "/home3/dth2133/data/usa/usa-t2m_tempPrecLand1971.zarr\n",
      "/home3/dth2133/data/usa/usa-t2m_tempPrecLand1972.zarr\n",
      "/home3/dth2133/data/usa/usa-t2m_tempPrecLand1973.zarr\n",
      "/home3/dth2133/data/usa/usa-t2m_tempPrecLand1974.zarr\n",
      "/home3/dth2133/data/usa/usa-t2m_tempPrecLand1975.zarr\n",
      "/home3/dth2133/data/usa/usa-t2m_tempPrecLand1976.zarr\n",
      "/home3/dth2133/data/usa/usa-t2m_tempPrecLand1977.zarr\n",
      "/home3/dth2133/data/usa/usa-t2m_tempPrecLand1978.zarr\n",
      "/home3/dth2133/data/usa/usa-t2m_tempPrecLand1979.zarr\n",
      "/home3/dth2133/data/usa/usa-t2m_tempPrecLand1980.zarr\n",
      "/home3/dth2133/data/usa/usa-t2m_tempPrecLand1981.zarr\n",
      "/home3/dth2133/data/usa/usa-t2m_tempPrecLand1982.zarr\n",
      "/home3/dth2133/data/usa/usa-t2m_tempPrecLand1983.zarr\n",
      "/home3/dth2133/data/usa/usa-t2m_tempPrecLand1984.zarr\n",
      "/home3/dth2133/data/usa/usa-t2m_tempPrecLand1985.zarr\n",
      "/home3/dth2133/data/usa/usa-t2m_tempPrecLand1986.zarr\n",
      "/home3/dth2133/data/usa/usa-t2m_tempPrecLand1987.zarr\n",
      "/home3/dth2133/data/usa/usa-t2m_tempPrecLand1988.zarr\n",
      "/home3/dth2133/data/usa/usa-t2m_tempPrecLand1989.zarr\n",
      "/home3/dth2133/data/usa/usa-t2m_tempPrecLand1990.zarr\n",
      "/home3/dth2133/data/usa/usa-t2m_tempPrecLand1991.zarr\n",
      "/home3/dth2133/data/usa/usa-t2m_tempPrecLand1992.zarr\n",
      "/home3/dth2133/data/usa/usa-t2m_tempPrecLand1993.zarr\n",
      "/home3/dth2133/data/usa/usa-t2m_tempPrecLand1994.zarr\n",
      "/home3/dth2133/data/usa/usa-t2m_tempPrecLand1995.zarr\n",
      "/home3/dth2133/data/usa/usa-t2m_tempPrecLand1996.zarr\n",
      "/home3/dth2133/data/usa/usa-t2m_tempPrecLand1997.zarr\n",
      "/home3/dth2133/data/usa/usa-t2m_tempPrecLand1998.zarr\n",
      "/home3/dth2133/data/usa/usa-t2m_tempPrecLand1999.zarr\n",
      "/home3/dth2133/data/usa/usa-t2m_tempPrecLand2000.zarr\n",
      "/home3/dth2133/data/usa/usa-t2m_tempPrecLand2001.zarr\n",
      "/home3/dth2133/data/usa/usa-t2m_tempPrecLand2002.zarr\n",
      "/home3/dth2133/data/usa/usa-t2m_tempPrecLand2003.zarr\n",
      "/home3/dth2133/data/usa/usa-t2m_tempPrecLand2004.zarr\n",
      "/home3/dth2133/data/usa/usa-t2m_tempPrecLand2005.zarr\n",
      "/home3/dth2133/data/usa/usa-t2m_tempPrecLand2006.zarr\n",
      "/home3/dth2133/data/usa/usa-t2m_tempPrecLand2007.zarr\n",
      "/home3/dth2133/data/usa/usa-t2m_tempPrecLand2008.zarr\n",
      "/home3/dth2133/data/usa/usa-t2m_tempPrecLand2009.zarr\n",
      "/home3/dth2133/data/usa/usa-t2m_tempPrecLand2010.zarr\n",
      "/home3/dth2133/data/usa/usa-t2m_tempPrecLand2011.zarr\n",
      "/home3/dth2133/data/usa/usa-t2m_tempPrecLand2012.zarr\n",
      "/home3/dth2133/data/usa/usa-t2m_tempPrecLand2013.zarr\n",
      "/home3/dth2133/data/usa/usa-t2m_tempPrecLand2014.zarr\n",
      "/home3/dth2133/data/usa/usa-t2m_tempPrecLand2015.zarr\n",
      "/home3/dth2133/data/usa/usa-t2m_tempPrecLand2016.zarr\n",
      "/home3/dth2133/data/usa/usa-t2m_tempPrecLand2017.zarr\n",
      "/home3/dth2133/data/usa/usa-t2m_tempPrecLand2018.zarr\n",
      "/home3/dth2133/data/usa/usa-t2m_tempPrecLand2019.zarr\n"
     ]
    }
   ],
   "source": [
    "# Check years from the input path - this just creates a vector of years for\n",
    "# which my raw climate data are available, e.g. [1970, 1971, ...]\n",
    "import numpy as np\n",
    "import glob\n",
    "from os.path import basename\n",
    "files = np.sort([x for x in glob.glob('/home3/dth2133/data/usa/*t2m_*')])\n",
    "# Loop over years and aggregate.\n",
    "output = list()\n",
    "for f in files:\n",
    "    print(f)\n",
    "    output.append(aggregate_era5l_t2m_multi(f))"
   ]
  },
  {
   "cell_type": "code",
   "execution_count": null,
   "id": "e9bb564e-4683-4b92-8b64-a1c6cf6ec174",
   "metadata": {
    "scrolled": true,
    "tags": []
   },
   "outputs": [
    {
     "name": "stdout",
     "output_type": "stream",
     "text": [
      "[                                        ] | 1% Completed |  3min 12.3s"
     ]
    },
    {
     "name": "stderr",
     "output_type": "stream",
     "text": [
      "IOStream.flush timed out\n"
     ]
    },
    {
     "name": "stdout",
     "output_type": "stream",
     "text": [
      "[#                                       ] | 4% Completed | 12min 32.8s"
     ]
    },
    {
     "name": "stderr",
     "output_type": "stream",
     "text": [
      "IOStream.flush timed out\n"
     ]
    },
    {
     "name": "stdout",
     "output_type": "stream",
     "text": [
      "[#                                       ] | 4% Completed | 14min 31.5s"
     ]
    },
    {
     "name": "stderr",
     "output_type": "stream",
     "text": [
      "IOStream.flush timed out\n"
     ]
    },
    {
     "name": "stdout",
     "output_type": "stream",
     "text": [
      "[##                                      ] | 6% Completed | 18min 29.5s"
     ]
    },
    {
     "name": "stderr",
     "output_type": "stream",
     "text": [
      "IOStream.flush timed out\n"
     ]
    },
    {
     "name": "stdout",
     "output_type": "stream",
     "text": [
      "[####                                    ] | 10% Completed | 33min 35.5s"
     ]
    },
    {
     "name": "stderr",
     "output_type": "stream",
     "text": [
      "IOStream.flush timed out\n",
      "IOStream.flush timed out\n"
     ]
    },
    {
     "name": "stdout",
     "output_type": "stream",
     "text": [
      "[####                                    ] | 10% Completed | 34min 32.7s"
     ]
    },
    {
     "name": "stderr",
     "output_type": "stream",
     "text": [
      "IOStream.flush timed out\n"
     ]
    },
    {
     "name": "stdout",
     "output_type": "stream",
     "text": [
      "[####                                    ] | 12% Completed | 37min 47.8s"
     ]
    },
    {
     "name": "stderr",
     "output_type": "stream",
     "text": [
      "IOStream.flush timed out\n"
     ]
    },
    {
     "name": "stdout",
     "output_type": "stream",
     "text": [
      "[####                                    ] | 12% Completed | 39min 53.4s"
     ]
    },
    {
     "name": "stderr",
     "output_type": "stream",
     "text": [
      "IOStream.flush timed out\n"
     ]
    },
    {
     "name": "stdout",
     "output_type": "stream",
     "text": [
      "[#####                                   ] | 13% Completed | 42min 33.9s"
     ]
    },
    {
     "name": "stderr",
     "output_type": "stream",
     "text": [
      "IOStream.flush timed out\n"
     ]
    },
    {
     "name": "stdout",
     "output_type": "stream",
     "text": [
      "[#####                                   ] | 13% Completed | 45min 49.4s"
     ]
    },
    {
     "name": "stderr",
     "output_type": "stream",
     "text": [
      "IOStream.flush timed out\n"
     ]
    },
    {
     "name": "stdout",
     "output_type": "stream",
     "text": [
      "[######                                  ] | 15% Completed | 50min 43.6s"
     ]
    },
    {
     "name": "stderr",
     "output_type": "stream",
     "text": [
      "IOStream.flush timed out\n"
     ]
    },
    {
     "name": "stdout",
     "output_type": "stream",
     "text": [
      "[######                                  ] | 16% Completed | 54min 42.5s"
     ]
    },
    {
     "name": "stderr",
     "output_type": "stream",
     "text": [
      "IOStream.flush timed out\n"
     ]
    },
    {
     "name": "stdout",
     "output_type": "stream",
     "text": [
      "[#######                                 ] | 19% Completed |  1hr  5min 25.7s"
     ]
    },
    {
     "name": "stderr",
     "output_type": "stream",
     "text": [
      "IOStream.flush timed out\n"
     ]
    },
    {
     "name": "stdout",
     "output_type": "stream",
     "text": [
      "[#######                                 ] | 19% Completed |  1hr  7min 37.5s"
     ]
    },
    {
     "name": "stderr",
     "output_type": "stream",
     "text": [
      "IOStream.flush timed out\n"
     ]
    },
    {
     "name": "stdout",
     "output_type": "stream",
     "text": [
      "[########                                ] | 20% Completed |  1hr 11min 47.4s"
     ]
    },
    {
     "name": "stderr",
     "output_type": "stream",
     "text": [
      "IOStream.flush timed out\n"
     ]
    },
    {
     "name": "stdout",
     "output_type": "stream",
     "text": [
      "[########                                ] | 20% Completed |  1hr 14min  9.9s"
     ]
    },
    {
     "name": "stderr",
     "output_type": "stream",
     "text": [
      "IOStream.flush timed out\n",
      "IOStream.flush timed out\n"
     ]
    },
    {
     "name": "stdout",
     "output_type": "stream",
     "text": [
      "[########                                ] | 22% Completed |  1hr 18min 22.7s"
     ]
    },
    {
     "name": "stderr",
     "output_type": "stream",
     "text": [
      "IOStream.flush timed out\n"
     ]
    },
    {
     "name": "stdout",
     "output_type": "stream",
     "text": [
      "[########                                ] | 22% Completed |  1hr 20min 43.0s"
     ]
    },
    {
     "name": "stderr",
     "output_type": "stream",
     "text": [
      "IOStream.flush timed out\n"
     ]
    },
    {
     "name": "stdout",
     "output_type": "stream",
     "text": [
      "[#########                               ] | 23% Completed |  1hr 25min 44.1s"
     ]
    },
    {
     "name": "stderr",
     "output_type": "stream",
     "text": [
      "IOStream.flush timed out\n",
      "IOStream.flush timed out\n"
     ]
    },
    {
     "name": "stdout",
     "output_type": "stream",
     "text": [
      "[###########                             ] | 28% Completed |  1hr 40min 37.4s"
     ]
    },
    {
     "name": "stderr",
     "output_type": "stream",
     "text": [
      "IOStream.flush timed out\n",
      "IOStream.flush timed out\n"
     ]
    },
    {
     "name": "stdout",
     "output_type": "stream",
     "text": [
      "[###########                             ] | 29% Completed |  1hr 45min 57.3s"
     ]
    },
    {
     "name": "stderr",
     "output_type": "stream",
     "text": [
      "IOStream.flush timed out\n"
     ]
    },
    {
     "name": "stdout",
     "output_type": "stream",
     "text": [
      "[###########                             ] | 29% Completed |  1hr 48min 26.2s"
     ]
    },
    {
     "name": "stderr",
     "output_type": "stream",
     "text": [
      "IOStream.flush timed out\n"
     ]
    },
    {
     "name": "stdout",
     "output_type": "stream",
     "text": [
      "[############                            ] | 31% Completed |  1hr 51min 49.6s"
     ]
    },
    {
     "name": "stderr",
     "output_type": "stream",
     "text": [
      "IOStream.flush timed out\n"
     ]
    },
    {
     "name": "stdout",
     "output_type": "stream",
     "text": [
      "[#############                           ] | 34% Completed |  2hr  4min  8.1s"
     ]
    },
    {
     "name": "stderr",
     "output_type": "stream",
     "text": [
      "IOStream.flush timed out\n"
     ]
    },
    {
     "name": "stdout",
     "output_type": "stream",
     "text": [
      "[##############                          ] | 35% Completed |  2hr  9min 28.7s"
     ]
    },
    {
     "name": "stderr",
     "output_type": "stream",
     "text": [
      "IOStream.flush timed out\n"
     ]
    },
    {
     "name": "stdout",
     "output_type": "stream",
     "text": [
      "[##############                          ] | 36% Completed |  2hr 13min  2.8s"
     ]
    },
    {
     "name": "stderr",
     "output_type": "stream",
     "text": [
      "IOStream.flush timed out\n"
     ]
    },
    {
     "name": "stdout",
     "output_type": "stream",
     "text": [
      "[##############                          ] | 37% Completed |  2hr 13min 58.6s"
     ]
    },
    {
     "name": "stderr",
     "output_type": "stream",
     "text": [
      "IOStream.flush timed out\n"
     ]
    },
    {
     "name": "stdout",
     "output_type": "stream",
     "text": [
      "[###############                         ] | 38% Completed |  2hr 20min 34.3s"
     ]
    },
    {
     "name": "stderr",
     "output_type": "stream",
     "text": [
      "IOStream.flush timed out\n"
     ]
    },
    {
     "name": "stdout",
     "output_type": "stream",
     "text": [
      "[################                        ] | 40% Completed |  2hr 25min 42.2s"
     ]
    },
    {
     "name": "stderr",
     "output_type": "stream",
     "text": [
      "IOStream.flush timed out\n"
     ]
    },
    {
     "name": "stdout",
     "output_type": "stream",
     "text": [
      "[################                        ] | 41% Completed |  2hr 30min 24.8s"
     ]
    },
    {
     "name": "stderr",
     "output_type": "stream",
     "text": [
      "IOStream.flush timed out\n"
     ]
    },
    {
     "name": "stdout",
     "output_type": "stream",
     "text": [
      "[#################                       ] | 42% Completed |  2hr 35min 53.4s"
     ]
    },
    {
     "name": "stderr",
     "output_type": "stream",
     "text": [
      "IOStream.flush timed out\n"
     ]
    },
    {
     "name": "stdout",
     "output_type": "stream",
     "text": [
      "[#################                       ] | 43% Completed |  2hr 38min 11.2s"
     ]
    },
    {
     "name": "stderr",
     "output_type": "stream",
     "text": [
      "IOStream.flush timed out\n",
      "IOStream.flush timed out\n"
     ]
    },
    {
     "name": "stdout",
     "output_type": "stream",
     "text": [
      "[##################                      ] | 45% Completed |  2hr 47min 27.7s"
     ]
    },
    {
     "name": "stderr",
     "output_type": "stream",
     "text": [
      "IOStream.flush timed out\n"
     ]
    },
    {
     "name": "stdout",
     "output_type": "stream",
     "text": [
      "[##################                      ] | 45% Completed |  2hr 49min 50.3s"
     ]
    },
    {
     "name": "stderr",
     "output_type": "stream",
     "text": [
      "IOStream.flush timed out\n",
      "IOStream.flush timed out\n"
     ]
    },
    {
     "name": "stdout",
     "output_type": "stream",
     "text": [
      "[###################                     ] | 48% Completed |  2hr 59min  4.5s"
     ]
    },
    {
     "name": "stderr",
     "output_type": "stream",
     "text": [
      "IOStream.flush timed out\n"
     ]
    },
    {
     "name": "stdout",
     "output_type": "stream",
     "text": [
      "[####################                    ] | 51% Completed |  3hr 11min  9.1s"
     ]
    },
    {
     "name": "stderr",
     "output_type": "stream",
     "text": [
      "IOStream.flush timed out\n"
     ]
    },
    {
     "name": "stdout",
     "output_type": "stream",
     "text": [
      "[#####################                   ] | 53% Completed |  3hr 16min 38.1s"
     ]
    },
    {
     "name": "stderr",
     "output_type": "stream",
     "text": [
      "IOStream.flush timed out\n",
      "IOStream.flush timed out\n"
     ]
    },
    {
     "name": "stdout",
     "output_type": "stream",
     "text": [
      "[#####################                   ] | 54% Completed |  3hr 24min 14.7s"
     ]
    },
    {
     "name": "stderr",
     "output_type": "stream",
     "text": [
      "IOStream.flush timed out\n"
     ]
    },
    {
     "name": "stdout",
     "output_type": "stream",
     "text": [
      "[######################                  ] | 56% Completed |  3hr 28min 57.4s"
     ]
    },
    {
     "name": "stderr",
     "output_type": "stream",
     "text": [
      "IOStream.flush timed out\n"
     ]
    },
    {
     "name": "stdout",
     "output_type": "stream",
     "text": [
      "[#######################                 ] | 59% Completed |  3hr 41min 36.9s"
     ]
    },
    {
     "name": "stderr",
     "output_type": "stream",
     "text": [
      "IOStream.flush timed out\n",
      "IOStream.flush timed out\n"
     ]
    },
    {
     "name": "stdout",
     "output_type": "stream",
     "text": [
      "[########################                ] | 60% Completed |  3hr 47min  4.9s"
     ]
    },
    {
     "name": "stderr",
     "output_type": "stream",
     "text": [
      "IOStream.flush timed out\n"
     ]
    },
    {
     "name": "stdout",
     "output_type": "stream",
     "text": [
      "[########################                ] | 60% Completed |  3hr 48min 49.5s"
     ]
    },
    {
     "name": "stderr",
     "output_type": "stream",
     "text": [
      "IOStream.flush timed out\n"
     ]
    },
    {
     "name": "stdout",
     "output_type": "stream",
     "text": [
      "[########################                ] | 60% Completed |  3hr 50min 48.0s"
     ]
    },
    {
     "name": "stderr",
     "output_type": "stream",
     "text": [
      "IOStream.flush timed out\n"
     ]
    },
    {
     "name": "stdout",
     "output_type": "stream",
     "text": [
      "[########################                ] | 62% Completed |  3hr 55min 47.7s"
     ]
    }
   ],
   "source": [
    "import dask\n",
    "result = dask.compute(output)"
   ]
  },
  {
   "cell_type": "code",
   "execution_count": 10,
   "id": "7907b776-0d44-4aae-928e-828e506fac8f",
   "metadata": {},
   "outputs": [],
   "source": [
    "temp = xr.open_zarr(os.path.join(output_path, output_name+'.zarr'))"
   ]
  },
  {
   "cell_type": "code",
   "execution_count": 105,
   "id": "4eb5dc3d-f45f-496a-b019-43b142ec70bd",
   "metadata": {},
   "outputs": [],
   "source": [
    "lr = ['dd'+str(x).replace('-','M') for x in range(-3,36)]\n",
    "lr"
   ]
  },
  {
   "cell_type": "code",
   "execution_count": 106,
   "id": "d0aa2967-1ab6-4583-b95c-716bf9db928d",
   "metadata": {},
   "outputs": [],
   "source": [
    "len(result[0][0])\n",
    "dlist = list()\n",
    "for d in range(0, len(result[0][0])):\n",
    "    ylist = list()\n",
    "    for y in range(0, len(result[0])):\n",
    "        ylist.append(result[0][y][d])  \n",
    "    temp_array = xr.DataArray(\n",
    "        data = np.concatenate(ylist, axis=1),\n",
    "        dims = ['region', 'year', 'month'],\n",
    "        coords = dict(\n",
    "            region=('region', georegions.regions),\n",
    "            year = ('year', temp.year.values),\n",
    "            month = ('month', temp.month.values))).to_dataset(name = lr[d])\n",
    "    dlist.append(temp_array)"
   ]
  },
  {
   "cell_type": "code",
   "execution_count": null,
   "id": "e620a616-4259-443c-b046-330461b24dfd",
   "metadata": {},
   "outputs": [],
   "source": [
    "outds = xr.combine_by_coords(dlist)"
   ]
  },
  {
   "cell_type": "code",
   "execution_count": null,
   "id": "063fea5c-faf0-4ee8-bada-481d2347440a",
   "metadata": {},
   "outputs": [],
   "source": [
    "ds = xr.open_zarr(os.path.join(output_path, output_name+'.zarr'))\n",
    "ld = [x for x in ds.keys() if x in lr]\n",
    "if len(ld) > 0:\n",
    "    ds = ds.drop(lr)\n",
    "ds = xr.combine_by_coords([ds,outds]).compute()"
   ]
  },
  {
   "cell_type": "code",
   "execution_count": null,
   "id": "edf32705-6c65-45c6-93ed-cef8b52e292a",
   "metadata": {},
   "outputs": [],
   "source": [
    "# https://github.com/pydata/xarray/issues/3476\n",
    "for v in list(ds.coords.keys()):\n",
    "    if ds.coords[v].dtype == object:\n",
    "        ds.coords[v] = ds.coords[v].astype(\"unicode\")\n",
    "\n",
    "for v in list(ds.variables.keys()):\n",
    "    if ds[v].dtype == object:\n",
    "        ds[v] = ds[v].astype(\"unicode\")\n",
    "        \n",
    "ds.to_zarr(os.path.join(output_path, output_name+'.zarr'), mode='w')"
   ]
  },
  {
   "cell_type": "code",
   "execution_count": null,
   "id": "f815be75-7fdf-44db-9390-b2d7998a3115",
   "metadata": {},
   "outputs": [],
   "source": [
    "if csv:\n",
    "    ds = xr.open_zarr(os.path.join(output_path, output_name+'.zarr'))\n",
    "    ds.to_dataframe().to_csv(os.path.join(output_path, output_name+'.csv'))"
   ]
  }
 ],
 "metadata": {
  "kernelspec": {
   "display_name": "Python [conda env:clim-ag38] *",
   "language": "python",
   "name": "conda-env-clim-ag38-py"
  },
  "language_info": {
   "codemirror_mode": {
    "name": "ipython",
    "version": 3
   },
   "file_extension": ".py",
   "mimetype": "text/x-python",
   "name": "python",
   "nbconvert_exporter": "python",
   "pygments_lexer": "ipython3",
   "version": "3.8.13"
  }
 },
 "nbformat": 4,
 "nbformat_minor": 5
}
