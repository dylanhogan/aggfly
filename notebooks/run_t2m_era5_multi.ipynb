{
 "cells": [
  {
   "cell_type": "code",
   "execution_count": 1,
   "id": "00cafd18-d708-4910-9fdf-5f997c67e74e",
   "metadata": {
    "tags": []
   },
   "outputs": [],
   "source": [
    "import xarray as xr\n",
    "import numpy as np\n",
    "import pandas as pd\n",
    "import dask\n",
    "import glob\n",
    "import os.path\n",
    "\n",
    "from dask.distributed import Client\n",
    "from dask.diagnostics import ProgressBar\n",
    "\n",
    "from aggfly import dataset, regions, grid_weights\n",
    "from aggfly.aggregate import TemporalAggregator, SpatialAggregator, get_time_dim\n",
    "\n",
    "ProgressBar().register()"
   ]
  },
  {
   "cell_type": "code",
   "execution_count": 2,
   "id": "0b29ecda-a44c-46dd-911d-c9213cdaf734",
   "metadata": {},
   "outputs": [],
   "source": [
    "# Set file output name/path\n",
    "output_path = \"/home3/dth2133/data/aggregated/counties/\"\n",
    "output_name = \"usa_counties_corn_monthly\"\n",
    "output_varn = \"dd\"\n",
    "csv = True"
   ]
  },
  {
   "cell_type": "code",
   "execution_count": 4,
   "id": "3721eca8-3636-44b2-aee2-e5a8c9457066",
   "metadata": {},
   "outputs": [],
   "source": [
    "# Open shapefile containing region features.\n",
    "georegions = regions.from_name('counties')\n",
    "\n",
    "# Open example climate dataset to calculate grid weights.\n",
    "clim = dataset.from_path(\n",
    "    f\"/home3/dth2133/data/usa/usa-t2m_tempPrecLand2019.zarr\", \n",
    "    't2m', \n",
    "    'zarr', \n",
    "    preprocess=dataset.timefix_era5l)\n",
    "\n",
    "# Clip climate data to the US (raw data are global)\n",
    "clim.clip_data_to_georegions_extent(georegions)\n",
    "\n",
    "# Rechunk dataset to optimize multithreading\n",
    "clim.rechunk(-1)\n",
    "\n",
    "# Calculate area and crop layer weights.\n",
    "weights = grid_weights.from_objects(clim, georegions, crop=None)\n",
    "\n",
    "# This object aggregates cells within a region to the average across \n",
    "# cells, weighted by `weights`, which in this case are the area of the\n",
    "# cell and the share of the cell with corn crops.\n",
    "spatial = SpatialAggregator('avg')\n",
    "\n",
    "# This object covers aggregating hourly and daily data to the yearly \n",
    "# level\n",
    "daily = [TemporalAggregator(\n",
    "    'dd',\n",
    "    agg_from='hour',\n",
    "    agg_to='day', \n",
    "    ddargs=[x,999,0]) for x in range(30,31)]\n",
    "\n",
    "annual = TemporalAggregator(\n",
    "    'sum', \n",
    "    agg_from='day',\n",
    "    agg_to='month')\n"
   ]
  },
  {
   "cell_type": "code",
   "execution_count": 6,
   "id": "7844ade2-0ef4-45cc-b0b7-80032763b0f9",
   "metadata": {},
   "outputs": [
    {
     "name": "stdout",
     "output_type": "stream",
     "text": [
      "[########################################] | 100% Completed |  0.1s\n",
      "[########################################] | 100% Completed | 16.4s\n",
      "[########################################] | 100% Completed | 15.6s\n",
      "[########################################] | 100% Completed | 28.0s\n"
     ]
    }
   ],
   "source": [
    "# Calculate the grid weights\n",
    "# w.rename('weights').to_dataset().to_netcdf('testweights.nc')\n",
    "# w = xr.open_dataset('testweights.nc')['weights']\n",
    "w = weights.weights()\n",
    "# w = w.chunk((-1))"
   ]
  },
  {
   "cell_type": "code",
   "execution_count": null,
   "id": "a731e8e8-a5a3-488d-9cd6-06472b1536b6",
   "metadata": {},
   "outputs": [],
   "source": [
    "aclim = spatial.map_execute(clim, w)\n",
    "daily_list = [x.map_execute(aclim) for x in daily]\n",
    "annual_list = [annual.map_execute(x, update=True) for x in daily_list]"
   ]
  },
  {
   "cell_type": "code",
   "execution_count": 6,
   "id": "48599807-de51-4d69-96c1-712b3b4a6216",
   "metadata": {},
   "outputs": [
    {
     "name": "stdout",
     "output_type": "stream",
     "text": [
      "[########################################] | 100% Completed | 35.2s\n"
     ]
    }
   ],
   "source": [
    "result = dask.compute([x.da for x in annual_list])"
   ]
  },
  {
   "cell_type": "markdown",
   "id": "6027c541-1ff8-4301-a295-6a01bb07d024",
   "metadata": {},
   "source": [
    "### Multi-year"
   ]
  },
  {
   "cell_type": "code",
   "execution_count": 7,
   "id": "5d694462-857e-46ee-8eb3-b39f3d8b4b7b",
   "metadata": {},
   "outputs": [],
   "source": [
    "def aggregate_era5l_t2m_multi(path):\n",
    "    \n",
    "    # path = \"/home3/dth2133/data/usa/usa-t2m_tempPrecLand1969.zarr\"\n",
    "    # Open climate dataset.\n",
    "    clim = dataset.from_path(\n",
    "        path, \n",
    "        't2m', \n",
    "        'zarr', \n",
    "        preprocess=dataset.timefix_era5l) # Kelvin to Celsius\n",
    "    \n",
    "    # Clip climate data to the US (raw data are global)\n",
    "    clim.clip_data_to_georegions_extent(georegions)\n",
    "    # Rechunk dataset to optimize multithreading\n",
    "    clim.rechunk((5, 578, -1, -1, -1))\n",
    "    \n",
    "    daily_list = [x.map_execute(clim.da.data) for x in daily]\n",
    "    annual_list = [annual.map_execute(x) for x in daily_list]\n",
    "    rc_list = [x.rechunk(-1) for x in annual_list]\n",
    "    spatial_list = [spatial.map_execute(x, w) for x in rc_list]\n",
    "    \n",
    "    return spatial_list\n",
    "    "
   ]
  },
  {
   "cell_type": "code",
   "execution_count": 8,
   "id": "08ae7a49-1f83-408b-9346-dee9151c9990",
   "metadata": {
    "scrolled": true,
    "tags": []
   },
   "outputs": [
    {
     "name": "stdout",
     "output_type": "stream",
     "text": [
      "/home3/dth2133/data/usa/usa-t2m_tempPrecLand1951.zarr\n",
      "/home3/dth2133/data/usa/usa-t2m_tempPrecLand1952.zarr\n",
      "/home3/dth2133/data/usa/usa-t2m_tempPrecLand1953.zarr\n",
      "/home3/dth2133/data/usa/usa-t2m_tempPrecLand1954.zarr\n",
      "/home3/dth2133/data/usa/usa-t2m_tempPrecLand1955.zarr\n",
      "/home3/dth2133/data/usa/usa-t2m_tempPrecLand1956.zarr\n",
      "/home3/dth2133/data/usa/usa-t2m_tempPrecLand1957.zarr\n",
      "/home3/dth2133/data/usa/usa-t2m_tempPrecLand1958.zarr\n",
      "/home3/dth2133/data/usa/usa-t2m_tempPrecLand1960.zarr\n",
      "/home3/dth2133/data/usa/usa-t2m_tempPrecLand1961.zarr\n",
      "/home3/dth2133/data/usa/usa-t2m_tempPrecLand1962.zarr\n",
      "/home3/dth2133/data/usa/usa-t2m_tempPrecLand1963.zarr\n",
      "/home3/dth2133/data/usa/usa-t2m_tempPrecLand1964.zarr\n",
      "/home3/dth2133/data/usa/usa-t2m_tempPrecLand1965.zarr\n",
      "/home3/dth2133/data/usa/usa-t2m_tempPrecLand1966.zarr\n",
      "/home3/dth2133/data/usa/usa-t2m_tempPrecLand1967.zarr\n",
      "/home3/dth2133/data/usa/usa-t2m_tempPrecLand1968.zarr\n",
      "/home3/dth2133/data/usa/usa-t2m_tempPrecLand1969.zarr\n",
      "/home3/dth2133/data/usa/usa-t2m_tempPrecLand1970.zarr\n",
      "/home3/dth2133/data/usa/usa-t2m_tempPrecLand1971.zarr\n",
      "/home3/dth2133/data/usa/usa-t2m_tempPrecLand1972.zarr\n",
      "/home3/dth2133/data/usa/usa-t2m_tempPrecLand1973.zarr\n",
      "/home3/dth2133/data/usa/usa-t2m_tempPrecLand1974.zarr\n",
      "/home3/dth2133/data/usa/usa-t2m_tempPrecLand1975.zarr\n",
      "/home3/dth2133/data/usa/usa-t2m_tempPrecLand1976.zarr\n",
      "/home3/dth2133/data/usa/usa-t2m_tempPrecLand1977.zarr\n",
      "/home3/dth2133/data/usa/usa-t2m_tempPrecLand1978.zarr\n",
      "/home3/dth2133/data/usa/usa-t2m_tempPrecLand1979.zarr\n",
      "/home3/dth2133/data/usa/usa-t2m_tempPrecLand1980.zarr\n",
      "/home3/dth2133/data/usa/usa-t2m_tempPrecLand1981.zarr\n",
      "/home3/dth2133/data/usa/usa-t2m_tempPrecLand1982.zarr\n",
      "/home3/dth2133/data/usa/usa-t2m_tempPrecLand1983.zarr\n",
      "/home3/dth2133/data/usa/usa-t2m_tempPrecLand1984.zarr\n",
      "/home3/dth2133/data/usa/usa-t2m_tempPrecLand1985.zarr\n",
      "/home3/dth2133/data/usa/usa-t2m_tempPrecLand1986.zarr\n",
      "/home3/dth2133/data/usa/usa-t2m_tempPrecLand1987.zarr\n",
      "/home3/dth2133/data/usa/usa-t2m_tempPrecLand1988.zarr\n",
      "/home3/dth2133/data/usa/usa-t2m_tempPrecLand1989.zarr\n",
      "/home3/dth2133/data/usa/usa-t2m_tempPrecLand1990.zarr\n",
      "/home3/dth2133/data/usa/usa-t2m_tempPrecLand1991.zarr\n",
      "/home3/dth2133/data/usa/usa-t2m_tempPrecLand1992.zarr\n",
      "/home3/dth2133/data/usa/usa-t2m_tempPrecLand1993.zarr\n",
      "/home3/dth2133/data/usa/usa-t2m_tempPrecLand1994.zarr\n",
      "/home3/dth2133/data/usa/usa-t2m_tempPrecLand1995.zarr\n",
      "/home3/dth2133/data/usa/usa-t2m_tempPrecLand1996.zarr\n",
      "/home3/dth2133/data/usa/usa-t2m_tempPrecLand1997.zarr\n",
      "/home3/dth2133/data/usa/usa-t2m_tempPrecLand1998.zarr\n",
      "/home3/dth2133/data/usa/usa-t2m_tempPrecLand1999.zarr\n",
      "/home3/dth2133/data/usa/usa-t2m_tempPrecLand2000.zarr\n",
      "/home3/dth2133/data/usa/usa-t2m_tempPrecLand2001.zarr\n",
      "/home3/dth2133/data/usa/usa-t2m_tempPrecLand2002.zarr\n",
      "/home3/dth2133/data/usa/usa-t2m_tempPrecLand2003.zarr\n",
      "/home3/dth2133/data/usa/usa-t2m_tempPrecLand2004.zarr\n",
      "/home3/dth2133/data/usa/usa-t2m_tempPrecLand2005.zarr\n",
      "/home3/dth2133/data/usa/usa-t2m_tempPrecLand2006.zarr\n",
      "/home3/dth2133/data/usa/usa-t2m_tempPrecLand2007.zarr\n",
      "/home3/dth2133/data/usa/usa-t2m_tempPrecLand2008.zarr\n",
      "/home3/dth2133/data/usa/usa-t2m_tempPrecLand2009.zarr\n",
      "/home3/dth2133/data/usa/usa-t2m_tempPrecLand2010.zarr\n",
      "/home3/dth2133/data/usa/usa-t2m_tempPrecLand2011.zarr\n",
      "/home3/dth2133/data/usa/usa-t2m_tempPrecLand2012.zarr\n",
      "/home3/dth2133/data/usa/usa-t2m_tempPrecLand2013.zarr\n",
      "/home3/dth2133/data/usa/usa-t2m_tempPrecLand2014.zarr\n",
      "/home3/dth2133/data/usa/usa-t2m_tempPrecLand2015.zarr\n",
      "/home3/dth2133/data/usa/usa-t2m_tempPrecLand2016.zarr\n",
      "/home3/dth2133/data/usa/usa-t2m_tempPrecLand2017.zarr\n",
      "/home3/dth2133/data/usa/usa-t2m_tempPrecLand2018.zarr\n",
      "/home3/dth2133/data/usa/usa-t2m_tempPrecLand2019.zarr\n"
     ]
    }
   ],
   "source": [
    "# Check years from the input path - this just creates a vector of years for\n",
    "# which my raw climate data are available, e.g. [1970, 1971, ...]\n",
    "import numpy as np\n",
    "import glob\n",
    "from os.path import basename\n",
    "files = np.sort([x for x in glob.glob('/home3/dth2133/data/usa/*t2m_*')])\n",
    "# Loop over years and aggregate.\n",
    "output = list()\n",
    "for f in files:\n",
    "    print(f)\n",
    "    output.append(aggregate_era5l_t2m_multi(f))"
   ]
  },
  {
   "cell_type": "code",
   "execution_count": 9,
   "id": "e9bb564e-4683-4b92-8b64-a1c6cf6ec174",
   "metadata": {
    "scrolled": true,
    "tags": []
   },
   "outputs": [
    {
     "name": "stdout",
     "output_type": "stream",
     "text": [
      "[########################################] | 100% Completed | 39min 11.2s\n"
     ]
    }
   ],
   "source": [
    "import dask\n",
    "result = dask.compute(output)"
   ]
  },
  {
   "cell_type": "code",
   "execution_count": 10,
   "id": "7907b776-0d44-4aae-928e-828e506fac8f",
   "metadata": {},
   "outputs": [],
   "source": [
    "temp = xr.open_zarr(os.path.join(output_path, output_name+'.zarr'))\n"
   ]
  },
  {
   "cell_type": "code",
   "execution_count": 16,
   "id": "4eb5dc3d-f45f-496a-b019-43b142ec70bd",
   "metadata": {},
   "outputs": [],
   "source": [
    "lr = ['dd'+str(x).replace('-','M') for x in range(37,41)]"
   ]
  },
  {
   "cell_type": "code",
   "execution_count": 17,
   "id": "d0aa2967-1ab6-4583-b95c-716bf9db928d",
   "metadata": {},
   "outputs": [],
   "source": [
    "len(result[0][0])\n",
    "dlist = list()\n",
    "for d in range(0, len(result[0][0])):\n",
    "    ylist = list()\n",
    "    for y in range(0, len(result[0])):\n",
    "        ylist.append(result[0][y][d])  \n",
    "    temp_array = xr.DataArray(\n",
    "        data = np.concatenate(ylist, axis=1),\n",
    "        dims = ['region', 'year', 'month'],\n",
    "        coords = dict(\n",
    "            region=('region', georegions.regions),\n",
    "            year = ('year', temp.year.values),\n",
    "            month = ('month', temp.month.values))).to_dataset(name = lr[d])\n",
    "    dlist.append(temp_array)"
   ]
  },
  {
   "cell_type": "code",
   "execution_count": 18,
   "id": "e620a616-4259-443c-b046-330461b24dfd",
   "metadata": {},
   "outputs": [],
   "source": [
    "outds = xr.combine_by_coords(dlist)"
   ]
  },
  {
   "cell_type": "code",
   "execution_count": 19,
   "id": "063fea5c-faf0-4ee8-bada-481d2347440a",
   "metadata": {},
   "outputs": [
    {
     "name": "stdout",
     "output_type": "stream",
     "text": [
      "[########################################] | 100% Completed |  6.9s\n"
     ]
    }
   ],
   "source": [
    "ds = xr.open_zarr(os.path.join(output_path, output_name+'.zarr'))\n",
    "ld = [x for x in ds.keys() if x in lr]\n",
    "if len(ld) > 0:\n",
    "    ds = ds.drop(ld)\n",
    "ds = xr.combine_by_coords([ds,outds]).compute()"
   ]
  },
  {
   "cell_type": "code",
   "execution_count": 22,
   "id": "edf32705-6c65-45c6-93ed-cef8b52e292a",
   "metadata": {},
   "outputs": [
    {
     "data": {
      "text/plain": [
       "<xarray.backends.zarr.ZarrStore at 0x7f0dbc4e9900>"
      ]
     },
     "execution_count": 22,
     "metadata": {},
     "output_type": "execute_result"
    }
   ],
   "source": [
    "# https://github.com/pydata/xarray/issues/3476\n",
    "for v in list(ds.coords.keys()):\n",
    "    if ds.coords[v].dtype == object:\n",
    "        ds.coords[v] = ds.coords[v].astype(\"unicode\")\n",
    "\n",
    "for v in list(ds.variables.keys()):\n",
    "    if ds[v].dtype == object:\n",
    "        ds[v] = ds[v].astype(\"unicode\")\n",
    "        \n",
    "ds.to_zarr(os.path.join(output_path, output_name+'.zarr'), mode='w')"
   ]
  },
  {
   "cell_type": "code",
   "execution_count": 23,
   "id": "f815be75-7fdf-44db-9390-b2d7998a3115",
   "metadata": {
    "scrolled": true,
    "tags": []
   },
   "outputs": [
    {
     "name": "stdout",
     "output_type": "stream",
     "text": [
      "[########################################] | 100% Completed |  0.1s\n",
      "[########################################] | 100% Completed |  0.1s\n",
      "[########################################] | 100% Completed |  0.1s\n",
      "[########################################] | 100% Completed |  0.1s\n",
      "[########################################] | 100% Completed |  0.1s\n",
      "[########################################] | 100% Completed |  0.1s\n",
      "[########################################] | 100% Completed |  0.1s\n",
      "[########################################] | 100% Completed |  0.1s\n",
      "[########################################] | 100% Completed |  0.1s\n",
      "[########################################] | 100% Completed |  0.1s\n",
      "[########################################] | 100% Completed |  0.1s\n",
      "[########################################] | 100% Completed |  0.1s\n",
      "[########################################] | 100% Completed |  0.1s\n",
      "[########################################] | 100% Completed |  0.1s\n",
      "[########################################] | 100% Completed |  0.1s\n",
      "[########################################] | 100% Completed |  0.1s\n",
      "[########################################] | 100% Completed |  0.1s\n",
      "[########################################] | 100% Completed |  0.1s\n",
      "[########################################] | 100% Completed |  0.1s\n",
      "[########################################] | 100% Completed |  0.1s\n",
      "[########################################] | 100% Completed |  0.1s\n",
      "[########################################] | 100% Completed |  0.1s\n",
      "[########################################] | 100% Completed |  0.1s\n",
      "[########################################] | 100% Completed |  0.1s\n",
      "[########################################] | 100% Completed |  0.1s\n",
      "[########################################] | 100% Completed |  0.1s\n",
      "[########################################] | 100% Completed |  0.1s\n",
      "[########################################] | 100% Completed |  0.1s\n",
      "[########################################] | 100% Completed |  0.1s\n",
      "[########################################] | 100% Completed |  0.1s\n",
      "[########################################] | 100% Completed |  0.1s\n",
      "[########################################] | 100% Completed |  0.1s\n",
      "[########################################] | 100% Completed |  0.1s\n",
      "[########################################] | 100% Completed |  0.1s\n",
      "[########################################] | 100% Completed |  0.1s\n",
      "[########################################] | 100% Completed |  0.1s\n",
      "[########################################] | 100% Completed |  0.1s\n",
      "[########################################] | 100% Completed |  0.1s\n",
      "[########################################] | 100% Completed |  0.1s\n",
      "[########################################] | 100% Completed |  0.1s\n",
      "[########################################] | 100% Completed |  0.1s\n",
      "[########################################] | 100% Completed |  0.1s\n",
      "[########################################] | 100% Completed |  0.1s\n",
      "[########################################] | 100% Completed |  0.1s\n",
      "[########################################] | 100% Completed |  0.1s\n",
      "[########################################] | 100% Completed |  0.1s\n",
      "[########################################] | 100% Completed |  0.1s\n",
      "[########################################] | 100% Completed |  0.1s\n",
      "[########################################] | 100% Completed |  0.1s\n",
      "[########################################] | 100% Completed |  0.1s\n",
      "[########################################] | 100% Completed |  0.1s\n",
      "[########################################] | 100% Completed |  0.1s\n",
      "[########################################] | 100% Completed |  0.1s\n",
      "[########################################] | 100% Completed |  0.1s\n",
      "[########################################] | 100% Completed |  0.1s\n",
      "[########################################] | 100% Completed |  0.1s\n",
      "[########################################] | 100% Completed |  0.1s\n",
      "[########################################] | 100% Completed |  0.1s\n",
      "[########################################] | 100% Completed |  0.1s\n",
      "[########################################] | 100% Completed |  0.1s\n",
      "[########################################] | 100% Completed |  0.1s\n",
      "[########################################] | 100% Completed |  0.1s\n",
      "[########################################] | 100% Completed |  0.1s\n",
      "[########################################] | 100% Completed |  0.1s\n",
      "[########################################] | 100% Completed |  0.1s\n",
      "[########################################] | 100% Completed |  0.1s\n",
      "[########################################] | 100% Completed |  0.1s\n",
      "[########################################] | 100% Completed |  0.1s\n",
      "[########################################] | 100% Completed |  0.1s\n",
      "[########################################] | 100% Completed |  0.1s\n",
      "[########################################] | 100% Completed |  0.1s\n",
      "[########################################] | 100% Completed |  0.1s\n",
      "[########################################] | 100% Completed |  0.1s\n",
      "[########################################] | 100% Completed |  0.1s\n",
      "[########################################] | 100% Completed |  0.1s\n",
      "[########################################] | 100% Completed |  0.1s\n",
      "[########################################] | 100% Completed |  0.1s\n",
      "[########################################] | 100% Completed |  0.1s\n",
      "[########################################] | 100% Completed |  0.1s\n",
      "[########################################] | 100% Completed |  0.1s\n",
      "[########################################] | 100% Completed |  0.1s\n",
      "[########################################] | 100% Completed |  0.1s\n",
      "[########################################] | 100% Completed |  0.1s\n",
      "[########################################] | 100% Completed |  0.1s\n",
      "[########################################] | 100% Completed |  0.1s\n",
      "[########################################] | 100% Completed |  0.1s\n",
      "[########################################] | 100% Completed |  0.1s\n",
      "[########################################] | 100% Completed |  0.1s\n",
      "[########################################] | 100% Completed |  0.1s\n",
      "[########################################] | 100% Completed |  0.1s\n"
     ]
    }
   ],
   "source": [
    "if csv:\n",
    "    ds = xr.open_zarr(os.path.join(output_path, output_name+'.zarr'))\n",
    "    ds.to_dataframe().to_csv(os.path.join(output_path, output_name+'.csv'))"
   ]
  },
  {
   "cell_type": "code",
   "execution_count": 24,
   "id": "fd69d466-0513-4d76-afb5-bd30df20ff6b",
   "metadata": {
    "scrolled": true,
    "tags": []
   },
   "outputs": [
    {
     "name": "stdout",
     "output_type": "stream",
     "text": [
      "[########################################] | 100% Completed |  0.1s\n",
      "[########################################] | 100% Completed |  0.1s\n",
      "[########################################] | 100% Completed |  0.1s\n",
      "[########################################] | 100% Completed |  0.1s\n",
      "[########################################] | 100% Completed |  0.1s\n",
      "[########################################] | 100% Completed |  0.1s\n",
      "[########################################] | 100% Completed |  0.1s\n",
      "[########################################] | 100% Completed |  0.1s\n",
      "[########################################] | 100% Completed |  0.1s\n",
      "[########################################] | 100% Completed |  0.1s\n",
      "[########################################] | 100% Completed |  0.1s\n",
      "[########################################] | 100% Completed |  0.1s\n",
      "[########################################] | 100% Completed |  0.1s\n",
      "[########################################] | 100% Completed |  0.1s\n",
      "[########################################] | 100% Completed |  0.1s\n",
      "[########################################] | 100% Completed |  0.1s\n",
      "[########################################] | 100% Completed |  0.1s\n",
      "[########################################] | 100% Completed |  0.1s\n",
      "[########################################] | 100% Completed |  0.1s\n",
      "[########################################] | 100% Completed |  0.1s\n",
      "[########################################] | 100% Completed |  0.1s\n",
      "[########################################] | 100% Completed |  0.1s\n",
      "[########################################] | 100% Completed |  0.1s\n",
      "[########################################] | 100% Completed |  0.1s\n",
      "[########################################] | 100% Completed |  0.1s\n",
      "[########################################] | 100% Completed |  0.1s\n",
      "[########################################] | 100% Completed |  0.1s\n",
      "[########################################] | 100% Completed |  0.1s\n",
      "[########################################] | 100% Completed |  0.1s\n",
      "[########################################] | 100% Completed |  0.1s\n",
      "[########################################] | 100% Completed |  0.1s\n",
      "[########################################] | 100% Completed |  0.1s\n",
      "[########################################] | 100% Completed |  0.1s\n",
      "[########################################] | 100% Completed |  0.1s\n",
      "[########################################] | 100% Completed |  0.1s\n",
      "[########################################] | 100% Completed |  0.1s\n",
      "[########################################] | 100% Completed |  0.1s\n",
      "[########################################] | 100% Completed |  0.1s\n",
      "[########################################] | 100% Completed |  0.1s\n",
      "[########################################] | 100% Completed |  0.1s\n",
      "[########################################] | 100% Completed |  0.1s\n",
      "[########################################] | 100% Completed |  0.5s\n",
      "[########################################] | 100% Completed |  0.1s\n",
      "[########################################] | 100% Completed |  0.1s\n",
      "[########################################] | 100% Completed |  0.1s\n",
      "[########################################] | 100% Completed |  0.1s\n",
      "[########################################] | 100% Completed |  0.1s\n",
      "[########################################] | 100% Completed |  0.1s\n",
      "[########################################] | 100% Completed |  0.1s\n",
      "[########################################] | 100% Completed |  0.1s\n",
      "[########################################] | 100% Completed |  0.1s\n",
      "[########################################] | 100% Completed |  0.1s\n",
      "[########################################] | 100% Completed |  0.1s\n",
      "[########################################] | 100% Completed |  0.1s\n",
      "[########################################] | 100% Completed |  0.1s\n",
      "[########################################] | 100% Completed |  0.1s\n",
      "[########################################] | 100% Completed |  0.1s\n",
      "[########################################] | 100% Completed |  0.1s\n",
      "[########################################] | 100% Completed |  0.1s\n",
      "[########################################] | 100% Completed |  0.1s\n",
      "[########################################] | 100% Completed |  0.1s\n",
      "[########################################] | 100% Completed |  0.1s\n",
      "[########################################] | 100% Completed |  0.1s\n",
      "[########################################] | 100% Completed |  0.1s\n",
      "[########################################] | 100% Completed |  0.1s\n",
      "[########################################] | 100% Completed |  0.1s\n",
      "[########################################] | 100% Completed |  0.1s\n",
      "[########################################] | 100% Completed |  0.1s\n",
      "[########################################] | 100% Completed |  0.1s\n",
      "[########################################] | 100% Completed |  0.1s\n",
      "[########################################] | 100% Completed |  0.1s\n",
      "[########################################] | 100% Completed |  0.1s\n",
      "[########################################] | 100% Completed |  0.1s\n",
      "[########################################] | 100% Completed |  0.1s\n",
      "[########################################] | 100% Completed |  0.1s\n",
      "[########################################] | 100% Completed |  0.1s\n",
      "[########################################] | 100% Completed |  0.1s\n",
      "[########################################] | 100% Completed |  0.1s\n",
      "[########################################] | 100% Completed |  0.1s\n",
      "[########################################] | 100% Completed |  0.1s\n",
      "[########################################] | 100% Completed |  0.1s\n",
      "[########################################] | 100% Completed |  0.1s\n",
      "[########################################] | 100% Completed |  0.1s\n",
      "[########################################] | 100% Completed |  0.1s\n",
      "[########################################] | 100% Completed |  0.1s\n",
      "[########################################] | 100% Completed |  0.1s\n",
      "[########################################] | 100% Completed |  0.1s\n",
      "[########################################] | 100% Completed |  0.1s\n",
      "[########################################] | 100% Completed |  0.1s\n",
      "[########################################] | 100% Completed |  0.1s\n"
     ]
    }
   ],
   "source": [
    "stata = True\n",
    "if stata:\n",
    "    clim = pd.read_stata(\"/home3/dth2133/data/SR09/dataSTATA/weather_corn.dta\").set_index(['fips', 'year', 'month'])\n",
    "    pds = pd.read_stata('/home3/dth2133/data/rescale_prism/rescale_prism.dta').set_index(['fips', 'year', 'month']).drop(columns='index')\n",
    "    ds = xr.open_zarr(os.path.join(output_path, output_name+'.zarr')).to_dataframe()"
   ]
  },
  {
   "cell_type": "code",
   "execution_count": 25,
   "id": "a355053c-f4dc-447b-9bbd-57aa0e4c4a33",
   "metadata": {},
   "outputs": [
    {
     "data": {
      "text/plain": [
       "{'dd0': 'dday0C',\n",
       " 'dd08': 'dday08C',\n",
       " 'dd1': 'dday1C',\n",
       " 'dd10': 'dday10C',\n",
       " 'dd11': 'dday11C',\n",
       " 'dd12': 'dday12C',\n",
       " 'dd13': 'dday13C',\n",
       " 'dd14': 'dday14C',\n",
       " 'dd15': 'dday15C',\n",
       " 'dd16': 'dday16C',\n",
       " 'dd17': 'dday17C',\n",
       " 'dd18': 'dday18C',\n",
       " 'dd19': 'dday19C',\n",
       " 'dd2': 'dday2C',\n",
       " 'dd20': 'dday20C',\n",
       " 'dd21': 'dday21C',\n",
       " 'dd22': 'dday22C',\n",
       " 'dd23': 'dday23C',\n",
       " 'dd24': 'dday24C',\n",
       " 'dd25': 'dday25C',\n",
       " 'dd26': 'dday26C',\n",
       " 'dd27': 'dday27C',\n",
       " 'dd28': 'dday28C',\n",
       " 'dd29': 'dday29C',\n",
       " 'dd3': 'dday3C',\n",
       " 'dd30': 'dday30C',\n",
       " 'dd31': 'dday31C',\n",
       " 'dd32': 'dday32C',\n",
       " 'dd33': 'dday33C',\n",
       " 'dd34': 'dday34C',\n",
       " 'dd35': 'dday35C',\n",
       " 'dd36': 'dday36C',\n",
       " 'dd37': 'dday37C',\n",
       " 'dd38': 'dday38C',\n",
       " 'dd39': 'dday39C',\n",
       " 'dd4': 'dday4C',\n",
       " 'dd40': 'dday40C',\n",
       " 'dd5': 'dday5C',\n",
       " 'dd6': 'dday6C',\n",
       " 'dd7': 'dday7C',\n",
       " 'dd8': 'dday8C',\n",
       " 'dd9': 'dday9C',\n",
       " 'ddM1': 'ddayMinus1C',\n",
       " 'ddM2': 'ddayMinus2C',\n",
       " 'ddM3': 'ddayMinus3C',\n",
       " 'time0': 'time0C',\n",
       " 'time1': 'time1C',\n",
       " 'time10': 'time10C',\n",
       " 'time11': 'time11C',\n",
       " 'time12': 'time12C',\n",
       " 'time13': 'time13C',\n",
       " 'time14': 'time14C',\n",
       " 'time15': 'time15C',\n",
       " 'time16': 'time16C',\n",
       " 'time17': 'time17C',\n",
       " 'time18': 'time18C',\n",
       " 'time19': 'time19C',\n",
       " 'time2': 'time2C',\n",
       " 'time20': 'time20C',\n",
       " 'time21': 'time21C',\n",
       " 'time22': 'time22C',\n",
       " 'time23': 'time23C',\n",
       " 'time24': 'time24C',\n",
       " 'time25': 'time25C',\n",
       " 'time26': 'time26C',\n",
       " 'time27': 'time27C',\n",
       " 'time28': 'time28C',\n",
       " 'time29': 'time29C',\n",
       " 'time3': 'time3C',\n",
       " 'time30': 'time30C',\n",
       " 'time31': 'time31C',\n",
       " 'time32': 'time32C',\n",
       " 'time33': 'time33C',\n",
       " 'time34': 'time34C',\n",
       " 'time35': 'time35C',\n",
       " 'time36': 'time36C',\n",
       " 'time4': 'time4C',\n",
       " 'time5': 'time5C',\n",
       " 'time6': 'time6C',\n",
       " 'time7': 'time7C',\n",
       " 'time8': 'time8C',\n",
       " 'time9': 'time9C',\n",
       " 'timeM1': 'timeMinus1C',\n",
       " 'timeM2': 'timeMinus2C',\n",
       " 'timeM3': 'timeMinus3C'}"
      ]
     },
     "execution_count": 25,
     "metadata": {},
     "output_type": "execute_result"
    }
   ],
   "source": [
    "# [print(x) for x in clim.columns]\n",
    "ddays = {x:f'dday{x[2:]}C' for x in ds.columns if 'dd' in x and 'M' not in x}\n",
    "ddays.update({x:f'ddayMinus{x[3:]}C' for x in ds.columns if 'dd' in x and 'M' in x})\n",
    "ddays.update({x:f'time{x[4:]}C' for x in ds.columns if 'time' in x and 'M' not in x})\n",
    "ddays.update({x:f'timeMinus{x[5:]}C' for x in ds.columns if 'time' in x and 'M' in x})\n",
    "# ddays = {x:f'dday{x[2:]}C' for x in ds.columns if 'time' in x}\n",
    "# ddays['prec'] = 'precPDS'\n",
    "# df = df.rename(columns=ddays)\n",
    "ddays"
   ]
  },
  {
   "cell_type": "code",
   "execution_count": 26,
   "id": "2acc74c6-69f6-43e8-bc53-522734f82169",
   "metadata": {},
   "outputs": [],
   "source": [
    "ds.index = ds.index.rename(dict(region='fips'))\n",
    "ds = ds.rename(columns=ddays)\n"
   ]
  },
  {
   "cell_type": "code",
   "execution_count": 27,
   "id": "52041562-dba7-4048-927d-f9d20ddb9642",
   "metadata": {},
   "outputs": [],
   "source": [
    "ds = ds.reset_index()"
   ]
  },
  {
   "cell_type": "code",
   "execution_count": 28,
   "id": "67eadc9a-0711-4a8f-aecc-919039290874",
   "metadata": {},
   "outputs": [],
   "source": [
    "ds['fips'] = np.int64(ds.fips)"
   ]
  },
  {
   "cell_type": "code",
   "execution_count": 29,
   "id": "b333f833-504f-497c-9b97-3f3791e6ab54",
   "metadata": {},
   "outputs": [],
   "source": [
    "ds.to_stata('/home3/dth2133/data/SR09/dataSTATA/weather_corn_era5.dta')"
   ]
  },
  {
   "cell_type": "code",
   "execution_count": null,
   "id": "5704efa0-a8ea-4d35-9c83-d5dd0f783620",
   "metadata": {},
   "outputs": [],
   "source": []
  }
 ],
 "metadata": {
  "kernelspec": {
   "display_name": "Python [conda env:clim-ag38] *",
   "language": "python",
   "name": "conda-env-clim-ag38-py"
  },
  "language_info": {
   "codemirror_mode": {
    "name": "ipython",
    "version": 3
   },
   "file_extension": ".py",
   "mimetype": "text/x-python",
   "name": "python",
   "nbconvert_exporter": "python",
   "pygments_lexer": "ipython3",
   "version": "3.8.13"
  }
 },
 "nbformat": 4,
 "nbformat_minor": 5
}
