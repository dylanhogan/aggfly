{
 "cells": [
  {
   "cell_type": "code",
   "execution_count": 1,
   "id": "b7c1159a-054e-4e3a-b101-06bab3439146",
   "metadata": {
    "tags": []
   },
   "outputs": [],
   "source": [
    "import pandas as pd\n",
    "import numpy as np\n",
    "import xarray as xr\n",
    "import time\n",
    "import aggfly as af\n",
    "import dask\n",
    "from dask.distributed import Client, progress\n",
    "\n",
    "project_dir = '/home3/dth2133/data/clim_data_requests/maya'"
   ]
  },
  {
   "cell_type": "code",
   "execution_count": 2,
   "metadata": {},
   "outputs": [],
   "source": [
    "client = af.start_dask_client(n_workers=25, threads_per_worker=2)"
   ]
  },
  {
   "cell_type": "code",
   "execution_count": 3,
   "id": "73e9e068-2a35-4572-b538-d8bd05caa293",
   "metadata": {},
   "outputs": [],
   "source": [
    "# Years to aggregate\n",
    "years = np.arange(1951,1953)\n",
    "\n",
    "# Load shapefile\n",
    "georegions = af.georegions_from_path(\n",
    "    \"/home3/dth2133/data/shapefiles/county/cb_2018_us_county_500k.shp\",\n",
    "    regionid='GEOID'\n",
    ")"
   ]
  },
  {
   "cell_type": "code",
   "execution_count": 4,
   "id": "57646481-8423-4456-bba0-9be287b4307c",
   "metadata": {
    "scrolled": true,
    "tags": []
   },
   "outputs": [
    {
     "name": "stdout",
     "output_type": "stream",
     "text": [
      "/home3/dth2133/data/clim_data_requests/maya/tmp/GridWeights/mod-c442a87c91f294c\n",
      "Loading rescaled weights from cache\n",
      "Cache dictionary:\n",
      "{'func': 'weights', 'raster_weights': None}\n"
     ]
    }
   ],
   "source": [
    "# Open example dataset to construct weights.\n",
    "dataset = af.dataset_from_path(\n",
    "    f\"/home3/dth2133/data/annual/tempPrecLand2017.zarr\", \n",
    "    var = 't2m',\n",
    "    name = 'era5',\n",
    "    georegions=georegions,\n",
    "    preprocess = lambda x: (x - 273.15),\n",
    ")\n",
    "\n",
    "secondary_weights = af.pop_weights_from_path(\"/home3/dth2133/data/population/landscan-global-2016.tif\")\n",
    "\n",
    "# Calculate area weights.\n",
    "weights = af.weights_from_objects(\n",
    "    dataset,\n",
    "    georegions,\n",
    "    secondary_weights=secondary_weights,\n",
    "    # wtype=None,\n",
    "    project_dir=project_dir\n",
    ")\n",
    "weights.calculate_weights()"
   ]
  },
  {
   "cell_type": "code",
   "execution_count": 6,
   "metadata": {},
   "outputs": [
    {
     "name": "stdout",
     "output_type": "stream",
     "text": [
      "Aggregating 1951\n",
      "Year 1951 took 165.1887435913086 seconds.\n"
     ]
    }
   ],
   "source": [
    "df = pd.DataFrame()\n",
    "for year in years:\n",
    "    print(f\"Aggregating {year}\")\n",
    "    \n",
    "    start = time.time()\n",
    "    \n",
    "    dataset = af.dataset_from_path(\n",
    "        f\"/home3/dth2133/data/annual/tempPrecLand{year}.zarr\", \n",
    "        var = 't2m',\n",
    "        name = 'era5',\n",
    "        georegions=georegions,\n",
    "        preprocess = lambda x: (x - 273.15)\n",
    "    )\n",
    "    \n",
    "    output_df = af.aggregate_dataset(\n",
    "        dataset=dataset, \n",
    "        weights=weights,\n",
    "        tavg = {\n",
    "            'aggregate': {'calc':'mean', 'groupby':'day'},\n",
    "            'transform': {'transform':'power', 'exp':np.arange(1,3)},\n",
    "            'aggregate': {'calc':'sum', 'groupby':'year'},\n",
    "        },\n",
    "        bins={\n",
    "            'aggregate':{'calc':'avg', 'groupby':'date'},\n",
    "            'aggregate':{'calc':'bins', 'groupby':'year', 'ddargs':[[25,99,0],[30,99,0]]}\n",
    "        },\n",
    "        heating_dday = {\n",
    "            'aggregate':{'calc':'dd', 'groupby':'date', 'ddargs':[-99,20,1]},\n",
    "            'aggregate': {'calc':'sum', 'groupby':'year'},\n",
    "        }\n",
    "    )\n",
    "    \n",
    "    df = pd.concat([df, output_df], axis=0)\n",
    "    end = time.time()\n",
    "    print(f\"Year {year} took {end-start} seconds.\")\n",
    "\n"
   ]
  }
 ],
 "metadata": {
  "kernelspec": {
   "display_name": "aggfly-dev",
   "language": "python",
   "name": "python3"
  },
  "language_info": {
   "codemirror_mode": {
    "name": "ipython",
    "version": 3
   },
   "file_extension": ".py",
   "mimetype": "text/x-python",
   "name": "python",
   "nbconvert_exporter": "python",
   "pygments_lexer": "ipython3",
   "version": "3.11.6"
  }
 },
 "nbformat": 4,
 "nbformat_minor": 5
}
