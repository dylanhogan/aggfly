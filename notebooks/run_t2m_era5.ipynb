{
 "cells": [
  {
   "cell_type": "code",
   "execution_count": 1,
   "id": "00cafd18-d708-4910-9fdf-5f997c67e74e",
   "metadata": {
    "tags": []
   },
   "outputs": [],
   "source": [
    "import xarray as xr\n",
    "import numpy as np\n",
    "import glob\n",
    "import os.path\n",
    "\n",
    "from dask.distributed import Client\n",
    "from dask.diagnostics import ProgressBar\n",
    "\n",
    "from aggfly import dataset, regions, grid_weights\n",
    "from aggfly.aggregate import TemporalAggregator, SpatialAggregator, get_time_dim\n",
    "\n",
    "ProgressBar().register()"
   ]
  },
  {
   "cell_type": "code",
   "execution_count": 2,
   "id": "0b29ecda-a44c-46dd-911d-c9213cdaf734",
   "metadata": {},
   "outputs": [],
   "source": [
    "# Set file output name/path\n",
    "output_path = \"/home3/dth2133/data/aggregated/counties/\"\n",
    "output_name = \"usa_counties_corn_monthly\"\n",
    "output_varn = \"sine29\"\n",
    "csv = True"
   ]
  },
  {
   "cell_type": "code",
   "execution_count": 5,
   "id": "3721eca8-3636-44b2-aee2-e5a8c9457066",
   "metadata": {},
   "outputs": [],
   "source": [
    "# Open shapefile containing region features.\n",
    "georegions = regions.from_name('counties')\n",
    "\n",
    "# Open example climate dataset to calculate grid weights.\n",
    "clim = dataset.from_path(\n",
    "    f\"/home3/dth2133/data/usa/usa-t2m_tempPrecLand2019.zarr\", \n",
    "    't2m', \n",
    "    'zarr', \n",
    "    preprocess=dataset.timefix_era5l)\n",
    "\n",
    "# Clip climate data to the US (raw data are global)\n",
    "clim.clip_data_to_georegions_extent(georegions)\n",
    "\n",
    "# Rechunk dataset to optimize multithreading\n",
    "clim.rechunk((5, 578, -1, -1, -1, -1))\n",
    "\n",
    "# Calculate area and crop layer weights.\n",
    "weights = grid_weights.from_objects(clim, georegions, crop='corn')\n",
    "\n",
    "# This object covers aggregating hourly and daily data to the yearly \n",
    "# level\n",
    "daily = annual = TemporalAggregator(\n",
    "    'time', \n",
    "    agg_from='hour',\n",
    "    agg_to='day',\n",
    "    ddargs=[36,999,0])\n",
    "\n",
    "\n",
    "annual = TemporalAggregator(\n",
    "    'sum', \n",
    "    agg_from='day',\n",
    "    agg_to='month')\n",
    "\n",
    "# This object aggregates cells within a region to the average across \n",
    "# cells, weighted by `weights`, which in this case are the area of the\n",
    "# cell and the share of the cell with corn crops.\n",
    "spatial = SpatialAggregator('avg')\n"
   ]
  },
  {
   "cell_type": "code",
   "execution_count": 8,
   "id": "b5ced523-d914-4e08-94f5-b00cecbf4d8d",
   "metadata": {},
   "outputs": [
    {
     "name": "stdout",
     "output_type": "stream",
     "text": [
      "[########################################] | 100% Completed |  0.1s\n",
      "[########################################] | 100% Completed | 25.1s\n",
      "[########################################] | 100% Completed | 22.0s\n",
      "[########################################] | 100% Completed | 30.1s\n",
      "[########################################] | 100% Completed |  0.1s\n",
      "[########################################] | 100% Completed |  0.1s\n"
     ]
    }
   ],
   "source": [
    "# Calculate the grid weights\n",
    "w = weights.weights()"
   ]
  },
  {
   "cell_type": "code",
   "execution_count": 13,
   "id": "42f11d07-231c-4181-a046-10b08bd94480",
   "metadata": {},
   "outputs": [],
   "source": [
    "def aggregate_era5l_t2m(path):\n",
    "    # path = \"/home3/dth2133/data/usa/usa-t2m_tempPrecLand1969.zarr\"\n",
    "    # Open climate dataset.\n",
    "    clim = dataset.from_path(\n",
    "        path, \n",
    "        't2m', \n",
    "        'zarr', \n",
    "        preprocess=dataset.timefix_era5l) # Kelvin to Celsius\n",
    "\n",
    "    # Clip climate data to the US (raw data are global)\n",
    "    clim.clip_data_to_georegions_extent(georegions)\n",
    "    # Rechunk dataset to optimize multithreading\n",
    "    clim.rechunk((5, 578, -1, -1, -1))\n",
    "\n",
    "    # Update climate dataset in `clim` to one collapsed over\n",
    "    # hour and day based upon `temporal` definition above.\n",
    "    daily.map_execute(clim)\n",
    "    annual.map_execute(clim)\n",
    "    clim.rechunk(-1)\n",
    "\n",
    "    # Again update, but with (weighted) spatial collapse over regions.\n",
    "    spatial.map_execute(clim, w)\n",
    "\n",
    "    # Send back the aggregated climate data.\n",
    "    return clim.da\n"
   ]
  },
  {
   "cell_type": "code",
   "execution_count": 14,
   "id": "08ae7a49-1f83-408b-9346-dee9151c9990",
   "metadata": {
    "scrolled": true,
    "tags": []
   },
   "outputs": [
    {
     "name": "stdout",
     "output_type": "stream",
     "text": [
      "/home3/dth2133/data/usa/usa-t2m_tempPrecLand1951.zarr\n",
      "/home3/dth2133/data/usa/usa-t2m_tempPrecLand1952.zarr\n",
      "/home3/dth2133/data/usa/usa-t2m_tempPrecLand1953.zarr\n",
      "/home3/dth2133/data/usa/usa-t2m_tempPrecLand1954.zarr\n",
      "/home3/dth2133/data/usa/usa-t2m_tempPrecLand1955.zarr\n",
      "/home3/dth2133/data/usa/usa-t2m_tempPrecLand1956.zarr\n",
      "/home3/dth2133/data/usa/usa-t2m_tempPrecLand1957.zarr\n",
      "/home3/dth2133/data/usa/usa-t2m_tempPrecLand1958.zarr\n",
      "/home3/dth2133/data/usa/usa-t2m_tempPrecLand1960.zarr\n",
      "/home3/dth2133/data/usa/usa-t2m_tempPrecLand1961.zarr\n",
      "/home3/dth2133/data/usa/usa-t2m_tempPrecLand1962.zarr\n",
      "/home3/dth2133/data/usa/usa-t2m_tempPrecLand1963.zarr\n",
      "/home3/dth2133/data/usa/usa-t2m_tempPrecLand1964.zarr\n",
      "/home3/dth2133/data/usa/usa-t2m_tempPrecLand1965.zarr\n",
      "/home3/dth2133/data/usa/usa-t2m_tempPrecLand1966.zarr\n",
      "/home3/dth2133/data/usa/usa-t2m_tempPrecLand1967.zarr\n",
      "/home3/dth2133/data/usa/usa-t2m_tempPrecLand1968.zarr\n",
      "/home3/dth2133/data/usa/usa-t2m_tempPrecLand1969.zarr\n",
      "/home3/dth2133/data/usa/usa-t2m_tempPrecLand1970.zarr\n",
      "/home3/dth2133/data/usa/usa-t2m_tempPrecLand1971.zarr\n",
      "/home3/dth2133/data/usa/usa-t2m_tempPrecLand1972.zarr\n",
      "/home3/dth2133/data/usa/usa-t2m_tempPrecLand1973.zarr\n",
      "/home3/dth2133/data/usa/usa-t2m_tempPrecLand1974.zarr\n",
      "/home3/dth2133/data/usa/usa-t2m_tempPrecLand1975.zarr\n",
      "/home3/dth2133/data/usa/usa-t2m_tempPrecLand1976.zarr\n",
      "/home3/dth2133/data/usa/usa-t2m_tempPrecLand1977.zarr\n",
      "/home3/dth2133/data/usa/usa-t2m_tempPrecLand1978.zarr\n",
      "/home3/dth2133/data/usa/usa-t2m_tempPrecLand1979.zarr\n",
      "/home3/dth2133/data/usa/usa-t2m_tempPrecLand1980.zarr\n",
      "/home3/dth2133/data/usa/usa-t2m_tempPrecLand1981.zarr\n",
      "/home3/dth2133/data/usa/usa-t2m_tempPrecLand1982.zarr\n",
      "/home3/dth2133/data/usa/usa-t2m_tempPrecLand1983.zarr\n",
      "/home3/dth2133/data/usa/usa-t2m_tempPrecLand1984.zarr\n",
      "/home3/dth2133/data/usa/usa-t2m_tempPrecLand1985.zarr\n",
      "/home3/dth2133/data/usa/usa-t2m_tempPrecLand1986.zarr\n",
      "/home3/dth2133/data/usa/usa-t2m_tempPrecLand1987.zarr\n",
      "/home3/dth2133/data/usa/usa-t2m_tempPrecLand1988.zarr\n",
      "/home3/dth2133/data/usa/usa-t2m_tempPrecLand1989.zarr\n",
      "/home3/dth2133/data/usa/usa-t2m_tempPrecLand1990.zarr\n",
      "/home3/dth2133/data/usa/usa-t2m_tempPrecLand1991.zarr\n",
      "/home3/dth2133/data/usa/usa-t2m_tempPrecLand1992.zarr\n",
      "/home3/dth2133/data/usa/usa-t2m_tempPrecLand1993.zarr\n",
      "/home3/dth2133/data/usa/usa-t2m_tempPrecLand1994.zarr\n",
      "/home3/dth2133/data/usa/usa-t2m_tempPrecLand1995.zarr\n",
      "/home3/dth2133/data/usa/usa-t2m_tempPrecLand1996.zarr\n",
      "/home3/dth2133/data/usa/usa-t2m_tempPrecLand1997.zarr\n",
      "/home3/dth2133/data/usa/usa-t2m_tempPrecLand1998.zarr\n",
      "/home3/dth2133/data/usa/usa-t2m_tempPrecLand1999.zarr\n",
      "/home3/dth2133/data/usa/usa-t2m_tempPrecLand2000.zarr\n",
      "/home3/dth2133/data/usa/usa-t2m_tempPrecLand2001.zarr\n",
      "/home3/dth2133/data/usa/usa-t2m_tempPrecLand2002.zarr\n",
      "/home3/dth2133/data/usa/usa-t2m_tempPrecLand2003.zarr\n",
      "/home3/dth2133/data/usa/usa-t2m_tempPrecLand2004.zarr\n",
      "/home3/dth2133/data/usa/usa-t2m_tempPrecLand2005.zarr\n",
      "/home3/dth2133/data/usa/usa-t2m_tempPrecLand2006.zarr\n",
      "/home3/dth2133/data/usa/usa-t2m_tempPrecLand2007.zarr\n",
      "/home3/dth2133/data/usa/usa-t2m_tempPrecLand2008.zarr\n",
      "/home3/dth2133/data/usa/usa-t2m_tempPrecLand2009.zarr\n",
      "/home3/dth2133/data/usa/usa-t2m_tempPrecLand2010.zarr\n",
      "/home3/dth2133/data/usa/usa-t2m_tempPrecLand2011.zarr\n",
      "/home3/dth2133/data/usa/usa-t2m_tempPrecLand2012.zarr\n",
      "/home3/dth2133/data/usa/usa-t2m_tempPrecLand2013.zarr\n",
      "/home3/dth2133/data/usa/usa-t2m_tempPrecLand2014.zarr\n",
      "/home3/dth2133/data/usa/usa-t2m_tempPrecLand2015.zarr\n",
      "/home3/dth2133/data/usa/usa-t2m_tempPrecLand2016.zarr\n",
      "/home3/dth2133/data/usa/usa-t2m_tempPrecLand2017.zarr\n",
      "/home3/dth2133/data/usa/usa-t2m_tempPrecLand2018.zarr\n",
      "/home3/dth2133/data/usa/usa-t2m_tempPrecLand2019.zarr\n"
     ]
    }
   ],
   "source": [
    "# Check years from the input path - this just creates a vector of years for\n",
    "# which my raw climate data are available, e.g. [1970, 1971, ...]\n",
    "import numpy as np\n",
    "import glob\n",
    "from os.path import basename\n",
    "files = np.sort([x for x in glob.glob('/home3/dth2133/data/usa/*t2m_*')])\n",
    "# Loop over years and aggregate.\n",
    "output = list()\n",
    "for f in files:\n",
    "    print(f)\n",
    "    output.append(aggregate_era5l_t2m(f))"
   ]
  },
  {
   "cell_type": "code",
   "execution_count": 15,
   "id": "49f09895-c578-47d0-ae63-75d999af2e38",
   "metadata": {},
   "outputs": [
    {
     "name": "stdout",
     "output_type": "stream",
     "text": [
      "[########################################] | 100% Completed | 26min 16.7s\n"
     ]
    }
   ],
   "source": [
    "da = xr.concat(output, dim='year').compute()"
   ]
  },
  {
   "cell_type": "code",
   "execution_count": 21,
   "id": "9525c768-c03f-4afa-b1b3-c1f31eeed766",
   "metadata": {
    "scrolled": true,
    "tags": []
   },
   "outputs": [
    {
     "data": {
      "text/plain": [
       "<xarray.backends.zarr.ZarrStore at 0x7f849c0b7c10>"
      ]
     },
     "execution_count": 21,
     "metadata": {},
     "output_type": "execute_result"
    }
   ],
   "source": [
    "#  Convert to dataset format\n",
    "ds = da.to_dataset(name=output_varn)\n",
    "#  Append to existing array of results\n",
    "ds.to_zarr(os.path.join(output_path, output_name+'.zarr'), mode='a') "
   ]
  },
  {
   "cell_type": "code",
   "execution_count": 22,
   "id": "1bd03031-d233-43d5-b29c-7de750efa665",
   "metadata": {
    "scrolled": true,
    "tags": []
   },
   "outputs": [
    {
     "name": "stdout",
     "output_type": "stream",
     "text": [
      "[########################################] | 100% Completed |  0.1s\n",
      "[########################################] | 100% Completed |  0.1s\n",
      "[########################################] | 100% Completed |  0.1s\n",
      "[########################################] | 100% Completed |  0.1s\n",
      "[########################################] | 100% Completed |  0.1s\n",
      "[########################################] | 100% Completed |  0.1s\n",
      "[########################################] | 100% Completed |  0.1s\n",
      "[########################################] | 100% Completed |  0.1s\n",
      "[########################################] | 100% Completed |  0.1s\n",
      "[########################################] | 100% Completed |  0.1s\n",
      "[########################################] | 100% Completed |  0.1s\n",
      "[########################################] | 100% Completed |  0.1s\n",
      "[########################################] | 100% Completed |  0.1s\n",
      "[########################################] | 100% Completed |  0.1s\n",
      "[########################################] | 100% Completed |  0.1s\n",
      "[########################################] | 100% Completed |  0.1s\n",
      "[########################################] | 100% Completed |  0.1s\n",
      "[########################################] | 100% Completed |  0.1s\n",
      "[########################################] | 100% Completed |  0.1s\n",
      "[########################################] | 100% Completed |  0.1s\n",
      "[########################################] | 100% Completed |  0.1s\n",
      "[########################################] | 100% Completed |  0.1s\n",
      "[########################################] | 100% Completed |  0.1s\n",
      "[########################################] | 100% Completed |  0.1s\n",
      "[########################################] | 100% Completed |  0.1s\n",
      "[########################################] | 100% Completed |  0.1s\n",
      "[########################################] | 100% Completed |  0.1s\n",
      "[########################################] | 100% Completed |  0.1s\n",
      "[########################################] | 100% Completed |  0.1s\n",
      "[########################################] | 100% Completed |  0.1s\n",
      "[########################################] | 100% Completed |  0.1s\n",
      "[########################################] | 100% Completed |  0.1s\n",
      "[########################################] | 100% Completed |  0.1s\n",
      "[########################################] | 100% Completed |  0.1s\n",
      "[########################################] | 100% Completed |  0.1s\n",
      "[########################################] | 100% Completed |  0.1s\n",
      "[########################################] | 100% Completed |  0.1s\n",
      "[########################################] | 100% Completed |  0.1s\n",
      "[########################################] | 100% Completed |  0.1s\n",
      "[########################################] | 100% Completed |  0.1s\n",
      "[########################################] | 100% Completed |  0.1s\n",
      "[########################################] | 100% Completed |  0.1s\n",
      "[########################################] | 100% Completed |  0.1s\n",
      "[########################################] | 100% Completed |  0.1s\n",
      "[########################################] | 100% Completed |  0.1s\n"
     ]
    }
   ],
   "source": [
    "# Save to csv for Stata\n",
    "if csv:\n",
    "    ds = xr.open_zarr(os.path.join(output_path, output_name+'.zarr'))\n",
    "    ds.to_dataframe().to_csv(os.path.join(output_path, output_name+'.csv'))"
   ]
  }
 ],
 "metadata": {
  "kernelspec": {
   "display_name": "Python [conda env:clim-ag38] *",
   "language": "python",
   "name": "conda-env-clim-ag38-py"
  },
  "language_info": {
   "codemirror_mode": {
    "name": "ipython",
    "version": 3
   },
   "file_extension": ".py",
   "mimetype": "text/x-python",
   "name": "python",
   "nbconvert_exporter": "python",
   "pygments_lexer": "ipython3",
   "version": "3.8.13"
  }
 },
 "nbformat": 4,
 "nbformat_minor": 5
}
