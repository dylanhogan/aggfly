{
 "cells": [
  {
   "cell_type": "code",
   "execution_count": null,
   "id": "47bac908-b658-4467-9a54-e8481ef99b89",
   "metadata": {},
   "outputs": [],
   "source": [
    "cd \"/home3/"
   ]
  }
 ],
 "metadata": {
  "kernelspec": {
   "display_name": "Stata",
   "language": "stata",
   "name": "stata"
  },
  "language_info": {
   "codemirror_mode": "stata",
   "file_extension": ".do",
   "mimetype": "text/x-stata",
   "name": "stata",
   "version": "15.1"
  }
 },
 "nbformat": 4,
 "nbformat_minor": 5
}
